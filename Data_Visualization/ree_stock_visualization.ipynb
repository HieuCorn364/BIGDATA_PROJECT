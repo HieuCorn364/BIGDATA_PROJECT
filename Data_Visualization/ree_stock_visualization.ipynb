{
 "cells": [
  {
   "cell_type": "markdown",
   "id": "2285882c",
   "metadata": {},
   "source": [
    "# Trực Quan Hóa Dữ Liệu Chứng Khoán REE\n",
    "\n",
    "## Giới thiệu\n",
    "\n",
    "Notebook này thực hiện phân tích và trực quan hóa dữ liệu chứng khoán của **Công ty Cổ phần Cơ Điện Lạnh (REE)**. Thông qua việc khai thác dữ liệu lịch sử giao dịch, chúng ta có thể nhận diện các xu hướng giá, biến động trong phiên, cũng như đánh giá hiệu suất cổ phiếu REE theo thời gian. \n",
    "Ngày 28/07/2000, Trung tâm chính thức đi vào hoạt động và thực hiện phiên giao dịch đầu tiên với hai mã cổ phiếu là REE và SAM, đánh dấu bước tiến quan trọng của thị trường chứng khoán (TTCK) Việt Nam. \n",
    "## Nội dung chính\n",
    "- Tiền xử lý dữ liệu chứng khoán REE\n",
    "- Trực quan hóa xu hướng giá và khối lượng giao dịch\n",
    "- Phân tích các chỉ số kỹ thuật cơ bản\n",
    "\n",
    "## Dữ liệu đầu vào\n",
    "\n",
    "- **Tên file:** `ree.json`\n",
    "- **Định dạng:** JSON\n",
    "- **Số lượng bản ghi:** Gồm 6018 bản ghi, mỗi bản ghi đại diện cho một ngày giao dịch\n",
    "- **Trường dữ liệu chính:**\n",
    "  - `Ngày`: Ngày giao dịch (định dạng DD/MM/YYYY)\n",
    "  - `Giá mở cửa`: Giá cổ phiếu khi bắt đầu phiên\n",
    "  - `Giá cao nhất`, `Giá thấp nhất`: Giá cao/thấp nhất trong ngày\n",
    "  - `Giá đóng cửa`: Giá cuối phiên\n",
    "  - `Giá điều chỉnh`: Giá đã điều chỉnh cổ tức hoặc chia tách\n",
    "  - `Thay đổi`: Mức biến động trong ngày (giá trị và phần trăm)\n",
    "  - `Khối lượng khớp lệnh`: Số cổ phiếu được giao dịch khớp lệnh\n",
    "  - `Giá trị khớp lệnh`: Tổng giá trị cổ phiếu khớp lệnh\n",
    "\n",
    "### Ví dụ bản ghi:\n",
    "```json\n",
    "{\n",
    "  \"Ngày\": \"29/04/2025\",\n",
    "  \"Giá đóng cửa\": \"68.5\",\n",
    "  \"Giá điều chỉnh\": \"68.5\",\n",
    "  \"Thay đổi\": \"-0.5(-0.72 %)\",\n",
    "  \"Khối lượng khớp lệnh\": \"336400\",\n",
    "  \"Giá trị khớp lệnh\": \"23.156\",\n",
    "  \"Khối lượng thỏa thuận\": \"0\",\n",
    "  \"Giá trị thỏa thuận\": \"0.0\",\n",
    "  \"Giá mở cửa\": \"69\",\n",
    "  \"Giá cao nhất\": \"69.5\",\n",
    "  \"Giá thấp nhất\": \"68.5\"\n",
    "}\n"
   ]
  },
  {
   "cell_type": "markdown",
   "id": "1bf06414",
   "metadata": {},
   "source": [
    "### 1. Import các thư viện"
   ]
  },
  {
   "cell_type": "code",
   "execution_count": 1,
   "id": "0cebf845",
   "metadata": {},
   "outputs": [],
   "source": [
    "import pandas as pd\n",
    "import matplotlib.pyplot as plt\n",
    "import plotly.graph_objects as go\n",
    "import plotly.express as px\n",
    "import seaborn as sns\n",
    "from datetime import datetime"
   ]
  },
  {
   "cell_type": "code",
   "execution_count": 2,
   "id": "55592b1d",
   "metadata": {},
   "outputs": [
    {
     "name": "stdout",
     "output_type": "stream",
     "text": [
      "d:\\IT_HCMUTE\\Hoc_ki_6\\BIG_DATA\\BIGDATA_PROJECT\\Data_Visualization\n"
     ]
    }
   ],
   "source": [
    "import os\n",
    "print(os.getcwd())"
   ]
  },
  {
   "cell_type": "markdown",
   "id": "3a91ec5b",
   "metadata": {},
   "source": [
    "### 2. Kiểm tra đường dẫn file đầu vào   "
   ]
  },
  {
   "cell_type": "code",
   "execution_count": 30,
   "id": "88c37a6a",
   "metadata": {},
   "outputs": [
    {
     "name": "stdout",
     "output_type": "stream",
     "text": [
      "True\n"
     ]
    }
   ],
   "source": [
    "print(os.path.exists(r'D:\\Big_Data_Basic\\project\\BIGDATA_PROJECT\\CrawlDataLib\\data\\ree.json'))"
   ]
  },
  {
   "cell_type": "markdown",
   "id": "f415ce9e",
   "metadata": {},
   "source": [
    "### 3. Đọc dữ liệu đầu vào để tiến hành phân tích và trực quan hóa"
   ]
  },
  {
   "cell_type": "code",
   "execution_count": 32,
   "id": "474daeaf",
   "metadata": {},
   "outputs": [],
   "source": [
    "data = pd.read_json(r'D:\\Big_Data_Basic\\project\\BIGDATA_PROJECT\\CrawlDataLib\\data\\ree.json')"
   ]
  },
  {
   "cell_type": "markdown",
   "id": "778e84ef",
   "metadata": {},
   "source": [
    "#### chuyển cột 'Ngày' trong dữ liệu thành định dạng datetime để tiện phân tích bằng pandas và sắp xếp tăng dần"
   ]
  },
  {
   "cell_type": "code",
   "execution_count": 34,
   "id": "b1eed0bd",
   "metadata": {},
   "outputs": [],
   "source": [
    "data['Ngày'] = pd.to_datetime(data['Ngày'], format='%d/%m/%Y')\n",
    "data = data.sort_values('Ngày')"
   ]
  },
  {
   "cell_type": "markdown",
   "id": "c57a964b",
   "metadata": {},
   "source": [
    "#### Định dạng lại kiểu dữ liệu cho phù hợp của từng cột"
   ]
  },
  {
   "cell_type": "code",
   "execution_count": 36,
   "id": "832c8fcd",
   "metadata": {},
   "outputs": [],
   "source": [
    "data['Giá đóng cửa'] = data['Giá đóng cửa'].astype(float)\n",
    "data['Giá mở cửa'] = data['Giá mở cửa'].astype(float)\n",
    "data['Giá cao nhất'] = data['Giá cao nhất'].astype(float)\n",
    "data['Giá thấp nhất'] = data['Giá thấp nhất'].astype(float)\n",
    "data['Khối lượng khớp lệnh'] = data['Khối lượng khớp lệnh'].astype(float)"
   ]
  },
  {
   "cell_type": "markdown",
   "id": "caacffc8",
   "metadata": {},
   "source": [
    "### 4. Tạo thêm một số cột mới để chúng ta có góc nhìn về phân tích ngắn hạn và dài hạn đối với dữ liệu chứng khoán"
   ]
  },
  {
   "cell_type": "code",
   "execution_count": 38,
   "id": "d084af5e",
   "metadata": {},
   "outputs": [],
   "source": [
    "data['Năm-Tháng'] = data['Ngày'].dt.to_period('M')\n",
    "data['Năm'] = data['Ngày'].dt.year\n",
    "data['Tháng'] = data['Ngày'].dt.month\n",
    "# Phân tích ngắn hạn từ tháng 5/2024 đến tháng 5/2025\n",
    "recent_data = data.loc[data['Ngày'] >= '2024-05-01'].copy()  # Tạo bản sao rõ ràng\n",
    "recent_data.loc[:, 'MA50'] = recent_data['Giá đóng cửa'].rolling(window=50).mean()\n",
    "recent_data.loc[:, 'MA200'] = recent_data['Giá đóng cửa'].rolling(window=200).mean()"
   ]
  },
  {
   "cell_type": "markdown",
   "id": "ae5a607a",
   "metadata": {},
   "source": [
    "#### Kiểm tra tính hợp lệ của dữ liệu các cột "
   ]
  },
  {
   "cell_type": "code",
   "execution_count": 40,
   "id": "08eb1fe0",
   "metadata": {},
   "outputs": [
    {
     "name": "stdout",
     "output_type": "stream",
     "text": [
      "Cảnh báo: Có giá trị giá không hợp lệ. Đang sửa...\n",
      "           Ngày  Giá đóng cửa  Giá cao nhất  Giá thấp nhất\n",
      "5357 2003-11-06          10.3          10.2           10.2\n",
      "5235 2004-05-10          24.4          24.6           24.6\n",
      "5070 2004-12-29          24.0          24.1           24.1\n",
      "4606 2006-11-06          88.0          87.5           87.5\n",
      "4574 2006-12-20         137.0         140.0          138.0\n",
      "0    2025-05-07          70.1          68.5           68.5\n",
      "Đã sửa thành công tất cả giá không hợp lệ!\n"
     ]
    }
   ],
   "source": [
    "invalid_prices = data[\n",
    "    (data['Giá đóng cửa'] > data['Giá cao nhất']) | \n",
    "    (data['Giá đóng cửa'] < data['Giá thấp nhất'])\n",
    "]\n",
    "if not invalid_prices.empty:\n",
    "    print(\"Cảnh báo: Có giá trị giá không hợp lệ. Đang sửa...\")\n",
    "    print(invalid_prices[['Ngày', 'Giá đóng cửa', 'Giá cao nhất', 'Giá thấp nhất']])\n",
    "    \n",
    "    data.loc[data['Giá đóng cửa'] > data['Giá cao nhất'], 'Giá đóng cửa'] = data['Giá cao nhất']\n",
    "    data.loc[data['Giá đóng cửa'] < data['Giá thấp nhất'], 'Giá đóng cửa'] = data['Giá thấp nhất']\n",
    "    \n",
    "    invalid_prices_after = data[\n",
    "        (data['Giá đóng cửa'] > data['Giá cao nhất']) | \n",
    "        (data['Giá đóng cửa'] < data['Giá thấp nhất'])\n",
    "    ]\n",
    "    if invalid_prices_after.empty:\n",
    "        print(\"Đã sửa thành công tất cả giá không hợp lệ!\")\n",
    "    else:\n",
    "        print(\"Vẫn còn giá không hợp lệ sau khi sửa:\", invalid_prices_after[['Ngày', 'Giá đóng cửa', 'Giá cao nhất', 'Giá thấp nhất']])"
   ]
  },
  {
   "cell_type": "markdown",
   "id": "f8f1282f",
   "metadata": {},
   "source": [
    "#### Hiển thị thông tin tổng quan của dữ liệu"
   ]
  },
  {
   "cell_type": "code",
   "execution_count": 42,
   "id": "b2fb1bab",
   "metadata": {},
   "outputs": [
    {
     "name": "stdout",
     "output_type": "stream",
     "text": [
      "Tổng số bản ghi: 6018\n",
      "Khoảng thời gian của dữ liệu: từ 28/07/2000 đến 07/05/2025\n",
      "Dữ liệu ngắn hạn (05/2024 - 05/2025):\n"
     ]
    },
    {
     "data": {
      "text/html": [
       "<div>\n",
       "<style scoped>\n",
       "    .dataframe tbody tr th:only-of-type {\n",
       "        vertical-align: middle;\n",
       "    }\n",
       "\n",
       "    .dataframe tbody tr th {\n",
       "        vertical-align: top;\n",
       "    }\n",
       "\n",
       "    .dataframe thead th {\n",
       "        text-align: right;\n",
       "    }\n",
       "</style>\n",
       "<table border=\"1\" class=\"dataframe\">\n",
       "  <thead>\n",
       "    <tr style=\"text-align: right;\">\n",
       "      <th></th>\n",
       "      <th>Ngày</th>\n",
       "      <th>Giá đóng cửa</th>\n",
       "      <th>Giá điều chỉnh</th>\n",
       "      <th>Thay đổi</th>\n",
       "      <th>Khối lượng khớp lệnh</th>\n",
       "      <th>Giá trị khớp lệnh</th>\n",
       "      <th>Khối lượng thỏa thuận</th>\n",
       "      <th>Giá trị thỏa thuận</th>\n",
       "      <th>Giá mở cửa</th>\n",
       "      <th>Giá cao nhất</th>\n",
       "      <th>Giá thấp nhất</th>\n",
       "      <th>Năm-Tháng</th>\n",
       "      <th>Năm</th>\n",
       "      <th>Tháng</th>\n",
       "      <th>MA50</th>\n",
       "      <th>MA200</th>\n",
       "    </tr>\n",
       "  </thead>\n",
       "  <tbody>\n",
       "    <tr>\n",
       "      <th>249</th>\n",
       "      <td>2024-05-02</td>\n",
       "      <td>64.2</td>\n",
       "      <td>55.07</td>\n",
       "      <td>2.6(4.22 %)</td>\n",
       "      <td>2464900.0</td>\n",
       "      <td>155.361</td>\n",
       "      <td>0</td>\n",
       "      <td>0.00</td>\n",
       "      <td>61.2</td>\n",
       "      <td>64.2</td>\n",
       "      <td>61.0</td>\n",
       "      <td>2024-05</td>\n",
       "      <td>2024</td>\n",
       "      <td>5</td>\n",
       "      <td>NaN</td>\n",
       "      <td>NaN</td>\n",
       "    </tr>\n",
       "    <tr>\n",
       "      <th>248</th>\n",
       "      <td>2024-05-03</td>\n",
       "      <td>65.9</td>\n",
       "      <td>56.53</td>\n",
       "      <td>1.7(2.65 %)</td>\n",
       "      <td>3663300.0</td>\n",
       "      <td>239.471</td>\n",
       "      <td>0</td>\n",
       "      <td>0.00</td>\n",
       "      <td>64.2</td>\n",
       "      <td>65.9</td>\n",
       "      <td>64.2</td>\n",
       "      <td>2024-05</td>\n",
       "      <td>2024</td>\n",
       "      <td>5</td>\n",
       "      <td>NaN</td>\n",
       "      <td>NaN</td>\n",
       "    </tr>\n",
       "    <tr>\n",
       "      <th>247</th>\n",
       "      <td>2024-05-06</td>\n",
       "      <td>65.3</td>\n",
       "      <td>56.01</td>\n",
       "      <td>-0.6(-0.91 %)</td>\n",
       "      <td>1612200.0</td>\n",
       "      <td>105.626</td>\n",
       "      <td>0</td>\n",
       "      <td>0.00</td>\n",
       "      <td>66.3</td>\n",
       "      <td>66.3</td>\n",
       "      <td>65.1</td>\n",
       "      <td>2024-05</td>\n",
       "      <td>2024</td>\n",
       "      <td>5</td>\n",
       "      <td>NaN</td>\n",
       "      <td>NaN</td>\n",
       "    </tr>\n",
       "    <tr>\n",
       "      <th>246</th>\n",
       "      <td>2024-05-07</td>\n",
       "      <td>65.0</td>\n",
       "      <td>55.76</td>\n",
       "      <td>-0.3(-0.46 %)</td>\n",
       "      <td>1418700.0</td>\n",
       "      <td>92.511</td>\n",
       "      <td>0</td>\n",
       "      <td>0.00</td>\n",
       "      <td>65.9</td>\n",
       "      <td>65.9</td>\n",
       "      <td>64.8</td>\n",
       "      <td>2024-05</td>\n",
       "      <td>2024</td>\n",
       "      <td>5</td>\n",
       "      <td>NaN</td>\n",
       "      <td>NaN</td>\n",
       "    </tr>\n",
       "    <tr>\n",
       "      <th>245</th>\n",
       "      <td>2024-05-08</td>\n",
       "      <td>66.4</td>\n",
       "      <td>56.96</td>\n",
       "      <td>1.4(2.15 %)</td>\n",
       "      <td>3576700.0</td>\n",
       "      <td>236.577</td>\n",
       "      <td>1700000</td>\n",
       "      <td>112.03</td>\n",
       "      <td>65.6</td>\n",
       "      <td>66.6</td>\n",
       "      <td>64.7</td>\n",
       "      <td>2024-05</td>\n",
       "      <td>2024</td>\n",
       "      <td>5</td>\n",
       "      <td>NaN</td>\n",
       "      <td>NaN</td>\n",
       "    </tr>\n",
       "  </tbody>\n",
       "</table>\n",
       "</div>"
      ],
      "text/plain": [
       "          Ngày  Giá đóng cửa  Giá điều chỉnh       Thay đổi  \\\n",
       "249 2024-05-02          64.2           55.07    2.6(4.22 %)   \n",
       "248 2024-05-03          65.9           56.53    1.7(2.65 %)   \n",
       "247 2024-05-06          65.3           56.01  -0.6(-0.91 %)   \n",
       "246 2024-05-07          65.0           55.76  -0.3(-0.46 %)   \n",
       "245 2024-05-08          66.4           56.96    1.4(2.15 %)   \n",
       "\n",
       "     Khối lượng khớp lệnh  Giá trị khớp lệnh  Khối lượng thỏa thuận  \\\n",
       "249             2464900.0            155.361                      0   \n",
       "248             3663300.0            239.471                      0   \n",
       "247             1612200.0            105.626                      0   \n",
       "246             1418700.0             92.511                      0   \n",
       "245             3576700.0            236.577                1700000   \n",
       "\n",
       "     Giá trị thỏa thuận  Giá mở cửa  Giá cao nhất  Giá thấp nhất Năm-Tháng  \\\n",
       "249                0.00        61.2          64.2           61.0   2024-05   \n",
       "248                0.00        64.2          65.9           64.2   2024-05   \n",
       "247                0.00        66.3          66.3           65.1   2024-05   \n",
       "246                0.00        65.9          65.9           64.8   2024-05   \n",
       "245              112.03        65.6          66.6           64.7   2024-05   \n",
       "\n",
       "      Năm  Tháng  MA50  MA200  \n",
       "249  2024      5   NaN    NaN  \n",
       "248  2024      5   NaN    NaN  \n",
       "247  2024      5   NaN    NaN  \n",
       "246  2024      5   NaN    NaN  \n",
       "245  2024      5   NaN    NaN  "
      ]
     },
     "execution_count": 42,
     "metadata": {},
     "output_type": "execute_result"
    }
   ],
   "source": [
    "print(f\"Tổng số bản ghi: {len(data)}\")\n",
    "print(f\"Khoảng thời gian của dữ liệu: từ {data['Ngày'].min().strftime('%d/%m/%Y')} đến {data['Ngày'].max().strftime('%d/%m/%Y')}\")\n",
    "print(\"Dữ liệu ngắn hạn (05/2024 - 05/2025):\")\n",
    "recent_data.head()"
   ]
  },
  {
   "cell_type": "markdown",
   "id": "012b3f74",
   "metadata": {},
   "source": [
    "### 5. Biểu đồ đường tương tác - Xu hướng giá dài hạn (2000-2025)"
   ]
  },
  {
   "cell_type": "code",
   "execution_count": 44,
   "id": "d5d781ec",
   "metadata": {},
   "outputs": [
    {
     "ename": "NameError",
     "evalue": "name 'monthly_data' is not defined",
     "output_type": "error",
     "traceback": [
      "\u001b[1;31m---------------------------------------------------------------------------\u001b[0m",
      "\u001b[1;31mNameError\u001b[0m                                 Traceback (most recent call last)",
      "Cell \u001b[1;32mIn[44], line 4\u001b[0m\n\u001b[0;32m      1\u001b[0m fig \u001b[38;5;241m=\u001b[39m go\u001b[38;5;241m.\u001b[39mFigure()\n\u001b[0;32m      3\u001b[0m fig\u001b[38;5;241m.\u001b[39madd_trace(go\u001b[38;5;241m.\u001b[39mScatter(\n\u001b[1;32m----> 4\u001b[0m     x\u001b[38;5;241m=\u001b[39mmonthly_data[\u001b[38;5;124m'\u001b[39m\u001b[38;5;124mNăm-Tháng\u001b[39m\u001b[38;5;124m'\u001b[39m], \n\u001b[0;32m      5\u001b[0m     y\u001b[38;5;241m=\u001b[39mmonthly_data[\u001b[38;5;124m'\u001b[39m\u001b[38;5;124mGiá đóng cửa\u001b[39m\u001b[38;5;124m'\u001b[39m],\n\u001b[0;32m      6\u001b[0m     mode\u001b[38;5;241m=\u001b[39m\u001b[38;5;124m'\u001b[39m\u001b[38;5;124mlines+markers\u001b[39m\u001b[38;5;124m'\u001b[39m,\n\u001b[0;32m      7\u001b[0m     name\u001b[38;5;241m=\u001b[39m\u001b[38;5;124m'\u001b[39m\u001b[38;5;124mGiá đóng cửa trung bình\u001b[39m\u001b[38;5;124m'\u001b[39m,\n\u001b[0;32m      8\u001b[0m     line\u001b[38;5;241m=\u001b[39m\u001b[38;5;28mdict\u001b[39m(color\u001b[38;5;241m=\u001b[39m\u001b[38;5;124m'\u001b[39m\u001b[38;5;124m#00cc96\u001b[39m\u001b[38;5;124m'\u001b[39m, width\u001b[38;5;241m=\u001b[39m\u001b[38;5;241m2\u001b[39m),\n\u001b[0;32m      9\u001b[0m     marker\u001b[38;5;241m=\u001b[39m\u001b[38;5;28mdict\u001b[39m(size\u001b[38;5;241m=\u001b[39m\u001b[38;5;241m6\u001b[39m, color\u001b[38;5;241m=\u001b[39m\u001b[38;5;124m'\u001b[39m\u001b[38;5;124m#00cc96\u001b[39m\u001b[38;5;124m'\u001b[39m)\n\u001b[0;32m     10\u001b[0m ))\n\u001b[0;32m     12\u001b[0m fig\u001b[38;5;241m.\u001b[39mupdate_layout(\n\u001b[0;32m     13\u001b[0m     title\u001b[38;5;241m=\u001b[39m\u001b[38;5;124m'\u001b[39m\u001b[38;5;124mGiá cổ phiếu REE qua các năm (2000-2025)\u001b[39m\u001b[38;5;124m'\u001b[39m,\n\u001b[0;32m     14\u001b[0m     xaxis_title\u001b[38;5;241m=\u001b[39m\u001b[38;5;124m'\u001b[39m\u001b[38;5;124mThời gian\u001b[39m\u001b[38;5;124m'\u001b[39m,\n\u001b[1;32m   (...)\u001b[0m\n\u001b[0;32m     21\u001b[0m     font\u001b[38;5;241m=\u001b[39m\u001b[38;5;28mdict\u001b[39m(size\u001b[38;5;241m=\u001b[39m\u001b[38;5;241m14\u001b[39m)\n\u001b[0;32m     22\u001b[0m )\n\u001b[0;32m     24\u001b[0m fig\u001b[38;5;241m.\u001b[39mshow()\n",
      "\u001b[1;31mNameError\u001b[0m: name 'monthly_data' is not defined"
     ]
    }
   ],
   "source": [
    "fig = go.Figure()\n",
    "\n",
    "fig.add_trace(go.Scatter(\n",
    "    x=monthly_data['Năm-Tháng'], \n",
    "    y=monthly_data['Giá đóng cửa'],\n",
    "    mode='lines+markers',\n",
    "    name='Giá đóng cửa trung bình',\n",
    "    line=dict(color='#00cc96', width=2),\n",
    "    marker=dict(size=6, color='#00cc96')\n",
    "))\n",
    "\n",
    "fig.update_layout(\n",
    "    title='Giá cổ phiếu REE qua các năm (2000-2025)',\n",
    "    xaxis_title='Thời gian',\n",
    "    yaxis_title='Giá (nghìn đồng)',\n",
    "    xaxis_rangeslider_visible=True,\n",
    "    template='plotly_white',\n",
    "    hovermode='x unified',\n",
    "    showlegend=True,\n",
    "    plot_bgcolor='rgba(0,0,0,0)',\n",
    "    font=dict(size=14)\n",
    ")\n",
    "\n",
    "fig.show()"
   ]
  },
  {
   "cell_type": "markdown",
   "id": "1c974531",
   "metadata": {},
   "source": [
    "### 6. Biểu đồ nến, KLGD - Phân tích ngắn hạn (05/2024-05/2025)"
   ]
  },
  {
   "cell_type": "code",
   "execution_count": null,
   "id": "211fc3c6",
   "metadata": {},
   "outputs": [],
   "source": [
    "fig = go.Figure()\n",
    "\n",
    "fig.add_trace(go.Candlestick(\n",
    "    x=recent_data['Ngày'],\n",
    "    open=recent_data['Giá mở cửa'],\n",
    "    high=recent_data['Giá cao nhất'],\n",
    "    low=recent_data['Giá thấp nhất'],\n",
    "    close=recent_data['Giá đóng cửa'],\n",
    "    name='Giá cổ phiếu',\n",
    "    increasing_line_color='#00cc96',\n",
    "    decreasing_line_color='#ff3e3e'\n",
    "))\n",
    "\n",
    "fig.add_trace(go.Bar(\n",
    "    x=recent_data['Ngày'],\n",
    "    y=recent_data['Khối lượng khớp lệnh'],\n",
    "    name='Khối lượng giao dịch',\n",
    "    yaxis='y2',\n",
    "    marker_color='rgba(0, 128, 255, 0.4)'\n",
    "))\n",
    "\n",
    "fig.update_layout(\n",
    "    title='Biểu đồ nến REE (05/2024 - 05/2025)',\n",
    "    xaxis_title='Ngày',\n",
    "    yaxis_title='Giá (nghìn đồng)',\n",
    "    yaxis2=dict(title='Khối lượng (cổ phiếu)', overlaying='y', side='right'),\n",
    "    xaxis_rangeslider_visible=False,\n",
    "    template='plotly_white',\n",
    "    hovermode='x unified',\n",
    "    showlegend=True,\n",
    "    plot_bgcolor='rgba(0,0,0,0)',\n",
    "    font=dict(size=14)\n",
    ")\n",
    "\n",
    "fig.show()"
   ]
  },
  {
   "cell_type": "markdown",
   "id": "89b10475",
   "metadata": {},
   "source": [
    "### 7. Biểu đồ phân tán - Mối quan hệ giá và khối lượng"
   ]
  },
  {
   "cell_type": "code",
   "execution_count": null,
   "id": "36cb9895",
   "metadata": {},
   "outputs": [],
   "source": [
    "fig = px.scatter(\n",
    "    recent_data, \n",
    "    x='Giá đóng cửa', \n",
    "    y='Khối lượng khớp lệnh',\n",
    "    color='Giá đóng cửa',\n",
    "    size='Khối lượng khớp lệnh',\n",
    "    hover_data=['Ngày'],\n",
    "    title='Giá đóng cửa và Khối lượng giao dịch REE (05/2024 - 05/2025)',\n",
    "    color_continuous_scale='Viridis',\n",
    "    labels={'Giá đóng cửa': 'Giá (nghìn đồng)', 'Khối lượng khớp lệnh': 'Khối lượng (cổ phiếu)'}\n",
    ")\n",
    "\n",
    "fig.update_layout(\n",
    "    template='plotly_dark',\n",
    "    showlegend=True,\n",
    "    plot_bgcolor='rgba(0,0,0,0)',\n",
    "    font=dict(size=14)\n",
    ")\n",
    "\n",
    "fig.show()"
   ]
  },
  {
   "cell_type": "markdown",
   "id": "fc30d23b",
   "metadata": {},
   "source": [
    "#### 8. Biểu đồ nến giá cổ phiếu ngắn hạn (05/2024 - 05/2025)"
   ]
  },
  {
   "cell_type": "code",
   "execution_count": null,
   "id": "435de518",
   "metadata": {},
   "outputs": [],
   "source": [
    "fig = go.Figure(data=[go.Candlestick(\n",
    "    x=recent_data['Ngày'],\n",
    "    open=recent_data['Giá mở cửa'],\n",
    "    high=recent_data['Giá cao nhất'],\n",
    "    low=recent_data['Giá thấp nhất'],\n",
    "    close=recent_data['Giá đóng cửa']\n",
    ")])\n",
    "\n",
    "fig.update_layout(\n",
    "    title='Biểu đồ nến giá cổ phiếu (05/2024 - 05/2025)',\n",
    "    xaxis_title='Ngày',\n",
    "    yaxis_title='Giá (VND)',\n",
    "    xaxis_rangeslider_visible=False\n",
    ")\n",
    "\n",
    "fig.show()"
   ]
  },
  {
   "cell_type": "markdown",
   "id": "21dbda03",
   "metadata": {},
   "source": [
    "### 9. Biểu đồ cột cho khối lượng khớp lệnh"
   ]
  },
  {
   "cell_type": "code",
   "execution_count": null,
   "id": "5951290c",
   "metadata": {},
   "outputs": [],
   "source": [
    "plt.figure(figsize=(12, 6))\n",
    "plt.bar(recent_data['Ngày'], recent_data['Khối lượng khớp lệnh'], color='green', alpha=0.6)\n",
    "plt.title('Khối lượng khớp lệnh theo thời gian (05/2024 - 05/2025)')\n",
    "plt.xlabel('Ngày')\n",
    "plt.ylabel('Khối lượng khớp lệnh')\n",
    "plt.grid()\n",
    "plt.xticks(rotation=45)\n",
    "plt.tight_layout()\n",
    "plt.show()"
   ]
  },
  {
   "cell_type": "code",
   "execution_count": null,
   "id": "ae5564bd",
   "metadata": {},
   "outputs": [],
   "source": [
    "# Vẽ biểu đồ kết hợp giá đóng cửa và khối lượng\n",
    "fig, ax1 = plt.subplots(figsize=(12, 6))\n",
    "\n",
    "# Vẽ giá đóng cửa\n",
    "ax1.plot(recent_data['Ngày'], recent_data['Giá đóng cửa'], color='blue', label='Giá đóng cửa')\n",
    "ax1.set_xlabel('Ngày')\n",
    "ax1.set_ylabel('Giá đóng cửa (VND)', color='blue')\n",
    "ax1.tick_params(axis='y', labelcolor='blue')\n",
    "ax1.grid()\n",
    "\n",
    "# Tạo trục y thứ hai cho khối lượng\n",
    "ax2 = ax1.twinx()\n",
    "ax2.bar(recent_data['Ngày'], recent_data['Khối lượng khớp lệnh'], color='green', alpha=0.3, label='Khối lượng')\n",
    "ax2.set_ylabel('Khối lượng khớp lệnh', color='green')\n",
    "ax2.tick_params(axis='y', labelcolor='green')\n",
    "\n",
    "# Tiêu đề và xoay nhãn\n",
    "plt.title('Giá đóng cửa và Khối lượng khớp lệnh (05/2024 - 05/2025)')\n",
    "fig.tight_layout()\n",
    "fig.legend(loc='upper center', bbox_to_anchor=(0.5, -0.05), ncol=2)\n",
    "plt.xticks(rotation=45)\n",
    "plt.show()"
   ]
  },
  {
   "cell_type": "markdown",
   "id": "279b387b",
   "metadata": {},
   "source": [
    "### 10. Biểu đồ nhiệt giá đóng cửa trung bình theo năm và tháng (2000-2025)"
   ]
  },
  {
   "cell_type": "code",
   "execution_count": null,
   "id": "edb9cabb",
   "metadata": {},
   "outputs": [],
   "source": [
    "import plotly.express as px\n",
    "# Tạo cột năm và tháng\n",
    "data['Năm'] = data['Ngày'].dt.year\n",
    "data['Tháng'] = data['Ngày'].dt.month\n",
    "\n",
    "# Tính giá đóng cửa trung bình theo năm và tháng\n",
    "heatmap_data = data.pivot_table(values='Giá đóng cửa', index='Năm', columns='Tháng', aggfunc='mean')\n",
    "\n",
    "# Vẽ biểu đồ nhiệt\n",
    "fig = px.imshow(heatmap_data, \n",
    "                labels=dict(x='Tháng', y='Năm', color='Giá đóng cửa (VND)'),\n",
    "                title='Biểu đồ nhiệt giá đóng cửa trung bình theo năm và tháng (2000-2025)',\n",
    "                color_continuous_scale='Viridis')\n",
    "\n",
    "fig.update_layout(\n",
    "    xaxis_title='Tháng',\n",
    "    yaxis_title='Năm'\n",
    ")\n",
    "fig.show()"
   ]
  },
  {
   "cell_type": "code",
   "execution_count": null,
   "id": "434d9ea6",
   "metadata": {},
   "outputs": [],
   "source": [
    "# Vẽ biểu đồ tổng hợp\n",
    "fig = go.Figure()\n",
    "\n",
    "# Thêm giá đóng cửa\n",
    "fig.add_trace(go.Scatter(\n",
    "    x=recent_data['Ngày'], \n",
    "    y=recent_data['Giá đóng cửa'],\n",
    "    mode='lines',\n",
    "    name='Giá đóng cửa',\n",
    "    line=dict(color='#1f77b4', width=2)\n",
    "))\n",
    "\n",
    "# Thêm MA50\n",
    "fig.add_trace(go.Scatter(\n",
    "    x=recent_data['Ngày'], \n",
    "    y=recent_data['MA50'],\n",
    "    mode='lines',\n",
    "    name='MA50 (Trung bình 50 ngày)',\n",
    "    line=dict(color='#ff7f0e', width=2)\n",
    "))\n",
    "\n",
    "# Thêm MA200\n",
    "fig.add_trace(go.Scatter(\n",
    "    x=recent_data['Ngày'], \n",
    "    y=recent_data['MA200'],\n",
    "    mode='lines',\n",
    "    name='MA200 (Trung bình 200 ngày)',\n",
    "    line=dict(color='#9467bd', width=2)\n",
    "))\n",
    "\n",
    "fig.update_layout(\n",
    "    title='Giá cổ phiếu REE và Trung bình động (05/2024 - 05/2025)',\n",
    "    xaxis_title='Ngày',\n",
    "    yaxis_title='Giá (nghìn đồng)',\n",
    "    xaxis_rangeslider_visible=True,\n",
    "    template='plotly_white',\n",
    "    hovermode='x unified',\n",
    "    showlegend=True,\n",
    "    plot_bgcolor='rgba(0,0,0,0)',\n",
    "    font=dict(size=14)\n",
    ")\n",
    "\n",
    "fig.show()"
   ]
  },
  {
   "cell_type": "code",
   "execution_count": null,
   "id": "99210fc2",
   "metadata": {},
   "outputs": [],
   "source": [
    "def calculate_rsi(data, periods=14):\n",
    "    delta = data['Giá đóng cửa'].diff()\n",
    "    gain = (delta.where(delta > 0, 0)).rolling(window=periods).mean()\n",
    "    loss = (-delta.where(delta < 0, 0)).rolling(window=periods).mean()\n",
    "    rs = gain / loss\n",
    "    return 100 - (100 / (1 + rs))\n",
    "\n",
    "recent_data['RSI'] = calculate_rsi(recent_data)\n",
    "\n",
    "fig = px.line(recent_data, x='Ngày', y='RSI', \n",
    "              title='Chỉ số RSI của REE (05/2024 - 05/2025)',\n",
    "              labels={'RSI': 'RSI'},\n",
    "              template='plotly_white')\n",
    "fig.add_hline(y=70, line_dash='dash', line_color='red', annotation_text='Quá mua')\n",
    "fig.add_hline(y=30, line_dash='dash', line_color='green', annotation_text='Quá bán')\n",
    "fig.update_layout(font=dict(size=14))\n",
    "fig.show()"
   ]
  },
  {
   "cell_type": "markdown",
   "id": "89f69965",
   "metadata": {},
   "source": [
    "##### chuyển file ree.json thành file csv"
   ]
  },
  {
   "cell_type": "code",
   "execution_count": null,
   "id": "4e7f3bba",
   "metadata": {},
   "outputs": [],
   "source": [
    "data.to_csv('d:\\\\IT_HCMUTE\\\\Hoc_ki_6\\\\BIG_DATA\\\\BIGDATA_PROJECT\\\\Data\\\\ree_sorted.csv', index=False)"
   ]
  }
 ],
 "metadata": {
  "kernelspec": {
   "display_name": "base",
   "language": "python",
   "name": "python3"
  },
  "language_info": {
   "codemirror_mode": {
    "name": "ipython",
    "version": 3
   },
   "file_extension": ".py",
   "mimetype": "text/x-python",
   "name": "python",
   "nbconvert_exporter": "python",
   "pygments_lexer": "ipython3",
   "version": "3.11.5"
  }
 },
 "nbformat": 4,
 "nbformat_minor": 5
}
