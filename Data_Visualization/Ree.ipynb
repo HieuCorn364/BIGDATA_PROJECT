{
 "cells": [
  {
   "cell_type": "code",
   "execution_count": 10,
   "id": "0cebf845",
   "metadata": {},
   "outputs": [],
   "source": [
    "import pandas as pd\n",
    "import matplotlib.pyplot as plt\n",
    "import plotly.graph_objects as go\n",
    "from datetime import datetime"
   ]
  },
  {
   "cell_type": "code",
   "execution_count": 3,
   "id": "55592b1d",
   "metadata": {},
   "outputs": [
    {
     "name": "stdout",
     "output_type": "stream",
     "text": [
      "d:\\IT_HCMUTE\\Hoc_ki_6\\BIG_DATA\\BIGDATA_PROJECT\\Data_Visualization\n"
     ]
    }
   ],
   "source": [
    "import os\n",
    "print(os.getcwd())"
   ]
  },
  {
   "cell_type": "code",
   "execution_count": 11,
   "id": "88c37a6a",
   "metadata": {},
   "outputs": [
    {
     "name": "stdout",
     "output_type": "stream",
     "text": [
      "True\n"
     ]
    }
   ],
   "source": [
    "print(os.path.exists(r'D:\\IT_HCMUTE\\Hoc_ki_6\\BIG_DATA\\BIGDATA_PROJECT\\CrawlDataLib\\data\\ree.json'))"
   ]
  },
  {
   "cell_type": "code",
   "execution_count": 13,
   "id": "474daeaf",
   "metadata": {},
   "outputs": [],
   "source": [
    "data = pd.read_json(r'D:\\IT_HCMUTE\\Hoc_ki_6\\BIG_DATA\\BIGDATA_PROJECT\\CrawlDataLib\\data\\ree.json')"
   ]
  },
  {
   "cell_type": "code",
   "execution_count": 15,
   "id": "b1eed0bd",
   "metadata": {},
   "outputs": [],
   "source": [
    "data['Ngày'] = pd.to_datetime(data['Ngày'], format='%d/%m/%Y')"
   ]
  },
  {
   "cell_type": "code",
   "execution_count": 16,
   "id": "28329abe",
   "metadata": {},
   "outputs": [],
   "source": [
    "data = data.sort_values('Ngày')"
   ]
  },
  {
   "cell_type": "code",
   "execution_count": 17,
   "id": "832c8fcd",
   "metadata": {},
   "outputs": [],
   "source": [
    "data['Giá đóng cửa'] = data['Giá đóng cửa'].astype(float)\n",
    "data['Giá mở cửa'] = data['Giá mở cửa'].astype(float)\n",
    "data['Giá cao nhất'] = data['Giá cao nhất'].astype(float)\n",
    "data['Giá thấp nhất'] = data['Giá thấp nhất'].astype(float)\n",
    "data['Khối lượng khớp lệnh'] = data['Khối lượng khớp lệnh'].astype(float)"
   ]
  },
  {
   "cell_type": "code",
   "execution_count": 18,
   "id": "d084af5e",
   "metadata": {},
   "outputs": [],
   "source": [
    "recent_data = data[data['Ngày'] >= '2024-05-01']"
   ]
  },
  {
   "cell_type": "code",
   "execution_count": 19,
   "id": "b2fb1bab",
   "metadata": {},
   "outputs": [
    {
     "data": {
      "text/html": [
       "<div>\n",
       "<style scoped>\n",
       "    .dataframe tbody tr th:only-of-type {\n",
       "        vertical-align: middle;\n",
       "    }\n",
       "\n",
       "    .dataframe tbody tr th {\n",
       "        vertical-align: top;\n",
       "    }\n",
       "\n",
       "    .dataframe thead th {\n",
       "        text-align: right;\n",
       "    }\n",
       "</style>\n",
       "<table border=\"1\" class=\"dataframe\">\n",
       "  <thead>\n",
       "    <tr style=\"text-align: right;\">\n",
       "      <th></th>\n",
       "      <th>Ngày</th>\n",
       "      <th>Giá đóng cửa</th>\n",
       "      <th>Giá điều chỉnh</th>\n",
       "      <th>Thay đổi</th>\n",
       "      <th>Khối lượng khớp lệnh</th>\n",
       "      <th>Giá trị khớp lệnh</th>\n",
       "      <th>Khối lượng thỏa thuận</th>\n",
       "      <th>Giá trị thỏa thuận</th>\n",
       "      <th>Giá mở cửa</th>\n",
       "      <th>Giá cao nhất</th>\n",
       "      <th>Giá thấp nhất</th>\n",
       "    </tr>\n",
       "  </thead>\n",
       "  <tbody>\n",
       "    <tr>\n",
       "      <th>249</th>\n",
       "      <td>2024-05-02</td>\n",
       "      <td>64.2</td>\n",
       "      <td>55.07</td>\n",
       "      <td>2.6(4.22 %)</td>\n",
       "      <td>2464900.0</td>\n",
       "      <td>155.361</td>\n",
       "      <td>0</td>\n",
       "      <td>0.00</td>\n",
       "      <td>61.2</td>\n",
       "      <td>64.2</td>\n",
       "      <td>61.0</td>\n",
       "    </tr>\n",
       "    <tr>\n",
       "      <th>248</th>\n",
       "      <td>2024-05-03</td>\n",
       "      <td>65.9</td>\n",
       "      <td>56.53</td>\n",
       "      <td>1.7(2.65 %)</td>\n",
       "      <td>3663300.0</td>\n",
       "      <td>239.471</td>\n",
       "      <td>0</td>\n",
       "      <td>0.00</td>\n",
       "      <td>64.2</td>\n",
       "      <td>65.9</td>\n",
       "      <td>64.2</td>\n",
       "    </tr>\n",
       "    <tr>\n",
       "      <th>247</th>\n",
       "      <td>2024-05-06</td>\n",
       "      <td>65.3</td>\n",
       "      <td>56.01</td>\n",
       "      <td>-0.6(-0.91 %)</td>\n",
       "      <td>1612200.0</td>\n",
       "      <td>105.626</td>\n",
       "      <td>0</td>\n",
       "      <td>0.00</td>\n",
       "      <td>66.3</td>\n",
       "      <td>66.3</td>\n",
       "      <td>65.1</td>\n",
       "    </tr>\n",
       "    <tr>\n",
       "      <th>246</th>\n",
       "      <td>2024-05-07</td>\n",
       "      <td>65.0</td>\n",
       "      <td>55.76</td>\n",
       "      <td>-0.3(-0.46 %)</td>\n",
       "      <td>1418700.0</td>\n",
       "      <td>92.511</td>\n",
       "      <td>0</td>\n",
       "      <td>0.00</td>\n",
       "      <td>65.9</td>\n",
       "      <td>65.9</td>\n",
       "      <td>64.8</td>\n",
       "    </tr>\n",
       "    <tr>\n",
       "      <th>245</th>\n",
       "      <td>2024-05-08</td>\n",
       "      <td>66.4</td>\n",
       "      <td>56.96</td>\n",
       "      <td>1.4(2.15 %)</td>\n",
       "      <td>3576700.0</td>\n",
       "      <td>236.577</td>\n",
       "      <td>1700000</td>\n",
       "      <td>112.03</td>\n",
       "      <td>65.6</td>\n",
       "      <td>66.6</td>\n",
       "      <td>64.7</td>\n",
       "    </tr>\n",
       "  </tbody>\n",
       "</table>\n",
       "</div>"
      ],
      "text/plain": [
       "          Ngày  Giá đóng cửa  Giá điều chỉnh       Thay đổi  \\\n",
       "249 2024-05-02          64.2           55.07    2.6(4.22 %)   \n",
       "248 2024-05-03          65.9           56.53    1.7(2.65 %)   \n",
       "247 2024-05-06          65.3           56.01  -0.6(-0.91 %)   \n",
       "246 2024-05-07          65.0           55.76  -0.3(-0.46 %)   \n",
       "245 2024-05-08          66.4           56.96    1.4(2.15 %)   \n",
       "\n",
       "     Khối lượng khớp lệnh  Giá trị khớp lệnh  Khối lượng thỏa thuận  \\\n",
       "249             2464900.0            155.361                      0   \n",
       "248             3663300.0            239.471                      0   \n",
       "247             1612200.0            105.626                      0   \n",
       "246             1418700.0             92.511                      0   \n",
       "245             3576700.0            236.577                1700000   \n",
       "\n",
       "     Giá trị thỏa thuận  Giá mở cửa  Giá cao nhất  Giá thấp nhất  \n",
       "249                0.00        61.2          64.2           61.0  \n",
       "248                0.00        64.2          65.9           64.2  \n",
       "247                0.00        66.3          66.3           65.1  \n",
       "246                0.00        65.9          65.9           64.8  \n",
       "245              112.03        65.6          66.6           64.7  "
      ]
     },
     "execution_count": 19,
     "metadata": {},
     "output_type": "execute_result"
    }
   ],
   "source": [
    "recent_data.head()"
   ]
  },
  {
   "cell_type": "code",
   "execution_count": 20,
   "id": "4006d206",
   "metadata": {},
   "outputs": [
    {
     "data": {
      "image/png": "[encoded data removed]",
      "text/plain": [
       "<Figure size 1200x600 with 1 Axes>"
      ]
     },
     "metadata": {},
     "output_type": "display_data"
    }
   ],
   "source": [
    "plt.figure(figsize=(12, 6))\n",
    "plt.plot(recent_data['Ngày'], recent_data['Giá đóng cửa'], label='Giá đóng cửa', color='blue')\n",
    "plt.title('Giá đóng cửa theo thời gian (05/2024 - 05/2025)')\n",
    "plt.xlabel('Ngày')\n",
    "plt.ylabel('Giá đóng cửa (VND)')\n",
    "plt.legend()\n",
    "plt.grid()\n",
    "plt.xticks(rotation=45)\n",
    "plt.tight_layout()\n",
    "plt.show()"
   ]
  },
  {
   "cell_type": "code",
   "execution_count": null,
   "id": "435de518",
   "metadata": {},
   "outputs": [
    {
     "data": {
      "application/vnd.plotly.v1+json": {
       "config": {
        "plotlyServerURL": "https://plot.ly"
       },
       "data": [
        {
         "close": [
          64.2,
          65.9,
          65.3,
          65,
          66.4,
          66,
          66,
          67,
          66.6,
          66.6,
          68.6,
          68,
          67.5,
          59.2,
          59.2,
          61.5,
          60.8,
          62.2,
          63.3,
          62,
          62,
          62.3,
          63,
          62.5,
          62.6,
          62,
          62,
          62.2,
          62,
          63.5,
          64,
          61.5,
          61.6,
          63.5,
          63.7,
          65.7,
          64.5,
          63.6,
          64.1,
          64,
          64,
          62.6,
          63.5,
          63.2,
          64,
          65.3,
          65.2,
          66.5,
          69.5,
          71.2,
          71.5,
          71.1,
          72,
          73.9,
          72.2,
          72,
          70.3,
          68.5,
          68.3,
          69,
          70.5,
          71,
          71.5,
          70.5,
          69.6,
          67.9,
          70.3,
          65.4,
          66.7,
          65.8,
          66.3,
          67,
          68.9,
          67.8,
          69,
          67.5,
          69.9,
          70.3,
          69.9,
          70.1,
          69.7,
          70.6,
          70,
          68.6,
          68.6,
          69,
          68.6,
          67,
          65.3,
          65.6,
          66.1,
          65,
          65.1,
          65.7,
          65.7,
          64.7,
          64.9,
          65.8,
          66.1,
          66.6,
          66.7,
          66.6,
          67.5,
          67.4,
          66.7,
          66.6,
          66.7,
          67.4,
          66.8,
          66.3,
          65.8,
          65.6,
          65.6,
          65.5,
          65.6,
          65.9,
          65.2,
          64.9,
          64.9,
          64.8,
          64.1,
          63.1,
          63.3,
          63.5,
          63,
          63.3,
          64.6,
          65,
          64.1,
          62,
          64,
          63.6,
          63.9,
          64.5,
          64.6,
          65,
          65.8,
          65.4,
          65,
          65,
          63.7,
          62.8,
          63.8,
          65,
          64.7,
          66.9,
          66.7,
          67,
          67,
          67.2,
          66.8,
          67.8,
          67.2,
          68.4,
          67.8,
          67.8,
          67.4,
          66.6,
          66,
          66.5,
          66.2,
          66.5,
          67.8,
          67.3,
          67.7,
          68,
          67.5,
          68.7,
          68,
          68,
          67,
          67.9,
          67,
          65.4,
          64,
          64.8,
          64.1,
          64.4,
          64.3,
          65,
          65.4,
          64.9,
          65.6,
          66.7,
          66.9,
          66,
          65.4,
          65.9,
          65,
          66,
          66.5,
          66,
          66.8,
          66.8,
          67.5,
          68,
          67.9,
          67.5,
          66.7,
          67.5,
          72.2,
          72.1,
          72,
          75,
          74.3,
          73.6,
          74,
          72.4,
          72.6,
          73.1,
          73.1,
          73.7,
          73.3,
          75,
          74.6,
          73.8,
          72.2,
          70.9,
          70.8,
          71.3,
          70.1,
          71.5,
          71.5,
          72,
          72.5,
          72.6,
          73.1,
          70.9,
          71.4,
          71.5,
          71,
          66.1,
          65.8,
          61.2,
          61,
          65.2,
          67.5,
          67.4,
          65.5,
          65.4,
          64.8,
          65.5,
          68.2,
          67.5,
          68.5,
          68.4,
          69.9,
          69,
          68.5,
          70.1
         ],
         "high": [
          64.2,
          65.9,
          66.3,
          65.9,
          66.6,
          67.5,
          66.5,
          68,
          67.7,
          67.2,
          69,
          69,
          68.6,
          59.9,
          59.8,
          61.7,
          61.6,
          62.2,
          63.5,
          63.5,
          62,
          62.8,
          63.2,
          63.1,
          62.9,
          63.2,
          62.6,
          63.3,
          63.3,
          63.5,
          64.9,
          64.2,
          62.5,
          63.8,
          63.7,
          66.6,
          66.9,
          65.2,
          65.5,
          64.8,
          64.9,
          63.6,
          63.6,
          63.8,
          64,
          65.5,
          65.8,
          66.8,
          70,
          72.3,
          73.3,
          71.4,
          72.3,
          73.9,
          75.7,
          72.6,
          72,
          70.3,
          70,
          69,
          70.8,
          71.5,
          71.9,
          71.2,
          69.6,
          69.4,
          70.3,
          68.8,
          67.1,
          67.2,
          67.3,
          67.3,
          69.5,
          69,
          69.5,
          69.1,
          69.9,
          71.3,
          70.4,
          70.7,
          70.6,
          70.7,
          71.6,
          70,
          69,
          69,
          69.2,
          68.1,
          67.5,
          65.9,
          66.8,
          66.5,
          66,
          65.9,
          66,
          65.8,
          65,
          66,
          66.5,
          67.2,
          67,
          67,
          67.8,
          68.2,
          68,
          66.9,
          67.2,
          67.8,
          68,
          67,
          67.3,
          66.3,
          65.6,
          65.9,
          66.1,
          66.6,
          66.2,
          65.5,
          65.2,
          65.5,
          64.8,
          64.1,
          63.5,
          63.5,
          63.9,
          63.5,
          64.6,
          65.2,
          64.8,
          64,
          64.1,
          64.8,
          64.4,
          64.7,
          64.9,
          65,
          66,
          65.6,
          66,
          65.2,
          65.1,
          64,
          63.8,
          65,
          65.2,
          67.3,
          67.1,
          67.5,
          67.2,
          67.2,
          67.8,
          68.5,
          68,
          68.6,
          68.5,
          68.3,
          68.5,
          67.6,
          67.1,
          66.9,
          66.8,
          66.9,
          67.8,
          68.2,
          68.2,
          68.4,
          68,
          69.7,
          68.9,
          68.4,
          68.1,
          67.9,
          67.9,
          67.3,
          65.7,
          65,
          64.8,
          64.6,
          64.8,
          65,
          65.4,
          65.4,
          65.6,
          66.9,
          67,
          67,
          66.2,
          65.9,
          66,
          66.4,
          66.7,
          66.8,
          67.4,
          66.9,
          67.5,
          68.4,
          68.4,
          68.2,
          67.8,
          67.6,
          72.2,
          73.5,
          72.8,
          76,
          75.3,
          75,
          74.7,
          74.2,
          72.9,
          73.6,
          74.4,
          74.8,
          73.9,
          75.7,
          74.9,
          75,
          74.2,
          72.5,
          71.9,
          72.1,
          71.3,
          71.7,
          72.5,
          72,
          73,
          73.5,
          73.5,
          73.4,
          71.4,
          71.9,
          72.2,
          68.9,
          65.8,
          64.6,
          65.4,
          65.2,
          67.7,
          68,
          66.7,
          66,
          65.5,
          66.2,
          69.3,
          68.3,
          68.6,
          69,
          69.9,
          69.9,
          69.5,
          68.5
         ],
         "low": [
          61,
          64.2,
          65.1,
          64.8,
          64.7,
          65.8,
          65,
          65.9,
          66.4,
          66.4,
          66.7,
          68,
          67.1,
          58.7,
          58.9,
          58.6,
          59.6,
          60.5,
          62,
          61.8,
          61.1,
          61.5,
          62.4,
          62.3,
          62.3,
          62,
          61.5,
          62,
          62,
          62,
          63.7,
          61.5,
          61.4,
          61.6,
          62.7,
          63.5,
          64.5,
          62,
          63.6,
          62.9,
          63.2,
          62.6,
          61.8,
          63,
          63,
          63.7,
          64,
          65.6,
          65.8,
          69.1,
          71,
          70.3,
          70.4,
          71.5,
          69,
          69.6,
          70.3,
          68.5,
          68.1,
          66,
          68.4,
          70.4,
          70.3,
          68.5,
          67.8,
          66,
          65.8,
          65.4,
          65.2,
          65.8,
          65.7,
          66.6,
          67,
          67,
          67.5,
          67.4,
          67.6,
          69.6,
          69.3,
          69.5,
          69.6,
          69.5,
          69.4,
          68.4,
          68.2,
          68.4,
          68.5,
          67,
          65.1,
          63.8,
          65.6,
          64.9,
          64.9,
          65.1,
          65.5,
          64.7,
          64.1,
          65,
          65.8,
          66.5,
          66.6,
          66.4,
          66.6,
          67.4,
          66.6,
          66.2,
          66.6,
          66.4,
          66.6,
          66.3,
          65.8,
          65.4,
          65.3,
          65.4,
          65.4,
          65.7,
          65.2,
          64.6,
          64.8,
          64.8,
          64,
          63,
          62.9,
          63,
          63,
          62.9,
          63.2,
          64.7,
          62.6,
          62,
          62,
          63.3,
          63.4,
          63.7,
          64.3,
          64,
          65.1,
          64.8,
          65,
          64.6,
          63.6,
          62.8,
          61.8,
          63.8,
          64.3,
          64.2,
          66.4,
          66.3,
          66.6,
          66.8,
          66.6,
          66.5,
          67.2,
          67.2,
          67.8,
          67.5,
          67.4,
          66.5,
          66,
          65.9,
          66,
          66,
          66.4,
          66.8,
          67.2,
          67.8,
          67.4,
          67.5,
          68,
          67.7,
          67,
          66.6,
          66.8,
          65,
          63.9,
          63.7,
          63.9,
          63.8,
          63.9,
          63.8,
          64.6,
          64.8,
          64.8,
          65.5,
          65.4,
          66,
          65.3,
          65.3,
          65,
          65.4,
          66,
          66,
          66.2,
          66.4,
          66.7,
          67.5,
          67.5,
          67.4,
          66.7,
          66.6,
          67.5,
          72.1,
          70.9,
          71.4,
          73.9,
          73.3,
          72.5,
          72,
          71.9,
          71.6,
          72.3,
          73.1,
          73,
          72.7,
          73.8,
          73.6,
          72.1,
          70.6,
          70.4,
          70.5,
          69.6,
          70.2,
          71.1,
          70.5,
          71.5,
          72.1,
          72,
          70.9,
          70.3,
          71.1,
          70.8,
          66.1,
          61.5,
          61.2,
          57.1,
          65.2,
          64.5,
          66.5,
          64.1,
          64.5,
          64.2,
          65,
          64,
          63.6,
          67,
          68,
          68.3,
          69,
          68.5,
          68.5
         ],
         "open": [
          61.2,
          64.2,
          66.3,
          65.9,
          65.6,
          67.3,
          66.3,
          66.6,
          67.7,
          66.6,
          67.4,
          68.9,
          68.4,
          59.8,
          59.1,
          59.1,
          61.6,
          61,
          62.5,
          63.5,
          61.5,
          62.4,
          62.5,
          63,
          62.3,
          62.6,
          62.1,
          62.1,
          62.7,
          62.3,
          64.9,
          64.1,
          61.5,
          61.7,
          63.4,
          63.5,
          66.9,
          64.6,
          63.6,
          64.8,
          64,
          63.5,
          62.6,
          63.8,
          63.4,
          64,
          65.8,
          66,
          67,
          70.4,
          71.3,
          71.2,
          71.1,
          72,
          74,
          72.2,
          72,
          70,
          68.4,
          68,
          68.8,
          70.5,
          71.4,
          71,
          69,
          69.4,
          65.8,
          68.8,
          65.5,
          67,
          65.8,
          67.2,
          67,
          68.8,
          68.5,
          69,
          67.6,
          69.9,
          70.3,
          70.2,
          70.6,
          69.5,
          71.3,
          69.6,
          68.7,
          68.5,
          68.7,
          68,
          67.1,
          65,
          65.7,
          66.3,
          65,
          65.9,
          65.7,
          65.8,
          65,
          65,
          66,
          66.5,
          66.8,
          66.7,
          66.9,
          67.9,
          67.5,
          66.4,
          66.7,
          66.4,
          67.8,
          67,
          66.5,
          66.1,
          65.6,
          65.6,
          65.7,
          66.5,
          65.9,
          65,
          64.9,
          64.9,
          64.7,
          64,
          63,
          63.3,
          63.9,
          63.2,
          63.3,
          64.9,
          64.7,
          64,
          62.3,
          63.3,
          63.8,
          64.2,
          64.9,
          64.6,
          65.4,
          65.6,
          65.6,
          64.7,
          64.9,
          64,
          62.8,
          64.2,
          65,
          64.8,
          66.9,
          66.7,
          67.1,
          67.2,
          67.3,
          67.1,
          68,
          67.2,
          68.4,
          68.3,
          68,
          67.4,
          66.6,
          66.1,
          66.5,
          66.2,
          66.5,
          67,
          67.3,
          68.4,
          68,
          67.5,
          68.8,
          68.4,
          67.5,
          67.2,
          67.9,
          67.3,
          65.4,
          64.4,
          64.8,
          64.1,
          64.8,
          64.3,
          65.1,
          65,
          64.9,
          65.6,
          66.7,
          67,
          66.2,
          65.4,
          66,
          65.7,
          66.1,
          66.8,
          66.2,
          66.9,
          67,
          67.8,
          68,
          67.9,
          67.4,
          66.6,
          67.7,
          73.5,
          72.1,
          71.8,
          75,
          74.3,
          73,
          74,
          72.9,
          72,
          73.2,
          73.5,
          73.9,
          73.6,
          73.8,
          74.6,
          74.2,
          72,
          70.9,
          70.5,
          71,
          71,
          71.9,
          71.5,
          72.4,
          72.6,
          72,
          73.4,
          70.5,
          71.9,
          72,
          67.6,
          61.8,
          62,
          57.1,
          65.2,
          66,
          68,
          66.5,
          64.5,
          65.1,
          65.5,
          65.7,
          68.3,
          68.1,
          68.5,
          68.8,
          69.9,
          69,
          68.5
         ],
         "type": "candlestick",
         "x": [
          "2024-05-02T00:00:00",
          "2024-05-03T00:00:00",
          "2024-05-06T00:00:00",
          "2024-05-07T00:00:00",
          "2024-05-08T00:00:00",
          "2024-05-09T00:00:00",
          "2024-05-10T00:00:00",
          "2024-05-13T00:00:00",
          "2024-05-14T00:00:00",
          "2024-05-15T00:00:00",
          "2024-05-16T00:00:00",
          "2024-05-17T00:00:00",
          "2024-05-20T00:00:00",
          "2024-05-21T00:00:00",
          "2024-05-22T00:00:00",
          "2024-05-23T00:00:00",
          "2024-05-24T00:00:00",
          "2024-05-27T00:00:00",
          "2024-05-28T00:00:00",
          "2024-05-29T00:00:00",
          "2024-05-30T00:00:00",
          "2024-05-31T00:00:00",
          "2024-06-03T00:00:00",
          "2024-06-04T00:00:00",
          "2024-06-05T00:00:00",
          "2024-06-06T00:00:00",
          "2024-06-07T00:00:00",
          "2024-06-10T00:00:00",
          "2024-06-11T00:00:00",
          "2024-06-12T00:00:00",
          "2024-06-13T00:00:00",
          "2024-06-14T00:00:00",
          "2024-06-17T00:00:00",
          "2024-06-18T00:00:00",
          "2024-06-19T00:00:00",
          "2024-06-20T00:00:00",
          "2024-06-21T00:00:00",
          "2024-06-24T00:00:00",
          "2024-06-25T00:00:00",
          "2024-06-26T00:00:00",
          "2024-06-27T00:00:00",
          "2024-06-28T00:00:00",
          "2024-07-01T00:00:00",
          "2024-07-02T00:00:00",
          "2024-07-03T00:00:00",
          "2024-07-04T00:00:00",
          "2024-07-05T00:00:00",
          "2024-07-08T00:00:00",
          "2024-07-09T00:00:00",
          "2024-07-10T00:00:00",
          "2024-07-11T00:00:00",
          "2024-07-12T00:00:00",
          "2024-07-15T00:00:00",
          "2024-07-16T00:00:00",
          "2024-07-17T00:00:00",
          "2024-07-18T00:00:00",
          "2024-07-19T00:00:00",
          "2024-07-22T00:00:00",
          "2024-07-23T00:00:00",
          "2024-07-24T00:00:00",
          "2024-07-25T00:00:00",
          "2024-07-26T00:00:00",
          "2024-07-29T00:00:00",
          "2024-07-30T00:00:00",
          "2024-07-31T00:00:00",
          "2024-08-01T00:00:00",
          "2024-08-02T00:00:00",
          "2024-08-05T00:00:00",
          "2024-08-06T00:00:00",
          "2024-08-07T00:00:00",
          "2024-08-08T00:00:00",
          "2024-08-09T00:00:00",
          "2024-08-12T00:00:00",
          "2024-08-13T00:00:00",
          "2024-08-14T00:00:00",
          "2024-08-15T00:00:00",
          "2024-08-16T00:00:00",
          "2024-08-19T00:00:00",
          "2024-08-20T00:00:00",
          "2024-08-21T00:00:00",
          "2024-08-22T00:00:00",
          "2024-08-23T00:00:00",
          "2024-08-26T00:00:00",
          "2024-08-27T00:00:00",
          "2024-08-28T00:00:00",
          "2024-08-29T00:00:00",
          "2024-08-30T00:00:00",
          "2024-09-04T00:00:00",
          "2024-09-05T00:00:00",
          "2024-09-06T00:00:00",
          "2024-09-09T00:00:00",
          "2024-09-10T00:00:00",
          "2024-09-11T00:00:00",
          "2024-09-12T00:00:00",
          "2024-09-13T00:00:00",
          "2024-09-16T00:00:00",
          "2024-09-17T00:00:00",
          "2024-09-18T00:00:00",
          "2024-09-19T00:00:00",
          "2024-09-20T00:00:00",
          "2024-09-23T00:00:00",
          "2024-09-24T00:00:00",
          "2024-09-25T00:00:00",
          "2024-09-26T00:00:00",
          "2024-09-27T00:00:00",
          "2024-09-30T00:00:00",
          "2024-10-01T00:00:00",
          "2024-10-02T00:00:00",
          "2024-10-03T00:00:00",
          "2024-10-04T00:00:00",
          "2024-10-07T00:00:00",
          "2024-10-08T00:00:00",
          "2024-10-09T00:00:00",
          "2024-10-10T00:00:00",
          "2024-10-11T00:00:00",
          "2024-10-14T00:00:00",
          "2024-10-15T00:00:00",
          "2024-10-16T00:00:00",
          "2024-10-17T00:00:00",
          "2024-10-18T00:00:00",
          "2024-10-21T00:00:00",
          "2024-10-22T00:00:00",
          "2024-10-23T00:00:00",
          "2024-10-24T00:00:00",
          "2024-10-25T00:00:00",
          "2024-10-28T00:00:00",
          "2024-10-29T00:00:00",
          "2024-10-30T00:00:00",
          "2024-10-31T00:00:00",
          "2024-11-01T00:00:00",
          "2024-11-04T00:00:00",
          "2024-11-05T00:00:00",
          "2024-11-06T00:00:00",
          "2024-11-07T00:00:00",
          "2024-11-08T00:00:00",
          "2024-11-11T00:00:00",
          "2024-11-12T00:00:00",
          "2024-11-13T00:00:00",
          "2024-11-14T00:00:00",
          "2024-11-15T00:00:00",
          "2024-11-18T00:00:00",
          "2024-11-19T00:00:00",
          "2024-11-20T00:00:00",
          "2024-11-21T00:00:00",
          "2024-11-22T00:00:00",
          "2024-11-25T00:00:00",
          "2024-11-26T00:00:00",
          "2024-11-27T00:00:00",
          "2024-11-28T00:00:00",
          "2024-11-29T00:00:00",
          "2024-12-02T00:00:00",
          "2024-12-03T00:00:00",
          "2024-12-04T00:00:00",
          "2024-12-05T00:00:00",
          "2024-12-06T00:00:00",
          "2024-12-09T00:00:00",
          "2024-12-10T00:00:00",
          "2024-12-11T00:00:00",
          "2024-12-12T00:00:00",
          "2024-12-13T00:00:00",
          "2024-12-16T00:00:00",
          "2024-12-17T00:00:00",
          "2024-12-18T00:00:00",
          "2024-12-19T00:00:00",
          "2024-12-20T00:00:00",
          "2024-12-23T00:00:00",
          "2024-12-24T00:00:00",
          "2024-12-25T00:00:00",
          "2024-12-26T00:00:00",
          "2024-12-27T00:00:00",
          "2024-12-30T00:00:00",
          "2024-12-31T00:00:00",
          "2025-01-02T00:00:00",
          "2025-01-03T00:00:00",
          "2025-01-06T00:00:00",
          "2025-01-07T00:00:00",
          "2025-01-08T00:00:00",
          "2025-01-09T00:00:00",
          "2025-01-10T00:00:00",
          "2025-01-13T00:00:00",
          "2025-01-14T00:00:00",
          "2025-01-15T00:00:00",
          "2025-01-16T00:00:00",
          "2025-01-17T00:00:00",
          "2025-01-20T00:00:00",
          "2025-01-21T00:00:00",
          "2025-01-22T00:00:00",
          "2025-01-23T00:00:00",
          "2025-01-24T00:00:00",
          "2025-02-04T00:00:00",
          "2025-02-05T00:00:00",
          "2025-02-06T00:00:00",
          "2025-02-07T00:00:00",
          "2025-02-10T00:00:00",
          "2025-02-11T00:00:00",
          "2025-02-12T00:00:00",
          "2025-02-13T00:00:00",
          "2025-02-14T00:00:00",
          "2025-02-17T00:00:00",
          "2025-02-18T00:00:00",
          "2025-02-19T00:00:00",
          "2025-02-20T00:00:00",
          "2025-02-21T00:00:00",
          "2025-02-24T00:00:00",
          "2025-02-25T00:00:00",
          "2025-02-26T00:00:00",
          "2025-02-27T00:00:00",
          "2025-02-28T00:00:00",
          "2025-03-03T00:00:00",
          "2025-03-04T00:00:00",
          "2025-03-05T00:00:00",
          "2025-03-06T00:00:00",
          "2025-03-07T00:00:00",
          "2025-03-10T00:00:00",
          "2025-03-11T00:00:00",
          "2025-03-12T00:00:00",
          "2025-03-13T00:00:00",
          "2025-03-14T00:00:00",
          "2025-03-17T00:00:00",
          "2025-03-18T00:00:00",
          "2025-03-19T00:00:00",
          "2025-03-20T00:00:00",
          "2025-03-21T00:00:00",
          "2025-03-24T00:00:00",
          "2025-03-25T00:00:00",
          "2025-03-26T00:00:00",
          "2025-03-27T00:00:00",
          "2025-03-28T00:00:00",
          "2025-03-31T00:00:00",
          "2025-04-01T00:00:00",
          "2025-04-02T00:00:00",
          "2025-04-03T00:00:00",
          "2025-04-04T00:00:00",
          "2025-04-08T00:00:00",
          "2025-04-09T00:00:00",
          "2025-04-10T00:00:00",
          "2025-04-11T00:00:00",
          "2025-04-14T00:00:00",
          "2025-04-15T00:00:00",
          "2025-04-16T00:00:00",
          "2025-04-17T00:00:00",
          "2025-04-18T00:00:00",
          "2025-04-21T00:00:00",
          "2025-04-22T00:00:00",
          "2025-04-23T00:00:00",
          "2025-04-24T00:00:00",
          "2025-04-25T00:00:00",
          "2025-04-28T00:00:00",
          "2025-04-29T00:00:00",
          "2025-05-07T00:00:00"
         ]
        }
       ],
       "layout": {
        "template": {
         "data": {
          "bar": [
           {
            "error_x": {
             "color": "#2a3f5f"
            },
            "error_y": {
             "color": "#2a3f5f"
            },
            "marker": {
             "line": {
              "color": "#E5ECF6",
              "width": 0.5
             },
             "pattern": {
              "fillmode": "overlay",
              "size": 10,
              "solidity": 0.2
             }
            },
            "type": "bar"
           }
          ],
          "barpolar": [
           {
            "marker": {
             "line": {
              "color": "#E5ECF6",
              "width": 0.5
             },
             "pattern": {
              "fillmode": "overlay",
              "size": 10,
              "solidity": 0.2
             }
            },
            "type": "barpolar"
           }
          ],
          "carpet": [
           {
            "aaxis": {
             "endlinecolor": "#2a3f5f",
             "gridcolor": "white",
             "linecolor": "white",
             "minorgridcolor": "white",
             "startlinecolor": "#2a3f5f"
            },
            "baxis": {
             "endlinecolor": "#2a3f5f",
             "gridcolor": "white",
             "linecolor": "white",
             "minorgridcolor": "white",
             "startlinecolor": "#2a3f5f"
            },
            "type": "carpet"
           }
          ],
          "choropleth": [
           {
            "colorbar": {
             "outlinewidth": 0,
             "ticks": ""
            },
            "type": "choropleth"
           }
          ],
          "contour": [
           {
            "colorbar": {
             "outlinewidth": 0,
             "ticks": ""
            },
            "colorscale": [
             [
              0,
              "#0d0887"
             ],
             [
              0.1111111111111111,
              "#46039f"
             ],
             [
              0.2222222222222222,
              "#7201a8"
             ],
             [
              0.3333333333333333,
              "#9c179e"
             ],
             [
              0.4444444444444444,
              "#bd3786"
             ],
             [
              0.5555555555555556,
              "#d8576b"
             ],
             [
              0.6666666666666666,
              "#ed7953"
             ],
             [
              0.7777777777777778,
              "#fb9f3a"
             ],
             [
              0.8888888888888888,
              "#fdca26"
             ],
             [
              1,
              "#f0f921"
             ]
            ],
            "type": "contour"
           }
          ],
          "contourcarpet": [
           {
            "colorbar": {
             "outlinewidth": 0,
             "ticks": ""
            },
            "type": "contourcarpet"
           }
          ],
          "heatmap": [
           {
            "colorbar": {
             "outlinewidth": 0,
             "ticks": ""
            },
            "colorscale": [
             [
              0,
              "#0d0887"
             ],
             [
              0.1111111111111111,
              "#46039f"
             ],
             [
              0.2222222222222222,
              "#7201a8"
             ],
             [
              0.3333333333333333,
              "#9c179e"
             ],
             [
              0.4444444444444444,
              "#bd3786"
             ],
             [
              0.5555555555555556,
              "#d8576b"
             ],
             [
              0.6666666666666666,
              "#ed7953"
             ],
             [
              0.7777777777777778,
              "#fb9f3a"
             ],
             [
              0.8888888888888888,
              "#fdca26"
             ],
             [
              1,
              "#f0f921"
             ]
            ],
            "type": "heatmap"
           }
          ],
          "heatmapgl": [
           {
            "colorbar": {
             "outlinewidth": 0,
             "ticks": ""
            },
            "colorscale": [
             [
              0,
              "#0d0887"
             ],
             [
              0.1111111111111111,
              "#46039f"
             ],
             [
              0.2222222222222222,
              "#7201a8"
             ],
             [
              0.3333333333333333,
              "#9c179e"
             ],
             [
              0.4444444444444444,
              "#bd3786"
             ],
             [
              0.5555555555555556,
              "#d8576b"
             ],
             [
              0.6666666666666666,
              "#ed7953"
             ],
             [
              0.7777777777777778,
              "#fb9f3a"
             ],
             [
              0.8888888888888888,
              "#fdca26"
             ],
             [
              1,
              "#f0f921"
             ]
            ],
            "type": "heatmapgl"
           }
          ],
          "histogram": [
           {
            "marker": {
             "pattern": {
              "fillmode": "overlay",
              "size": 10,
              "solidity": 0.2
             }
            },
            "type": "histogram"
           }
          ],
          "histogram2d": [
           {
            "colorbar": {
             "outlinewidth": 0,
             "ticks": ""
            },
            "colorscale": [
             [
              0,
              "#0d0887"
             ],
             [
              0.1111111111111111,
              "#46039f"
             ],
             [
              0.2222222222222222,
              "#7201a8"
             ],
             [
              0.3333333333333333,
              "#9c179e"
             ],
             [
              0.4444444444444444,
              "#bd3786"
             ],
             [
              0.5555555555555556,
              "#d8576b"
             ],
             [
              0.6666666666666666,
              "#ed7953"
             ],
             [
              0.7777777777777778,
              "#fb9f3a"
             ],
             [
              0.8888888888888888,
              "#fdca26"
             ],
             [
              1,
              "#f0f921"
             ]
            ],
            "type": "histogram2d"
           }
          ],
          "histogram2dcontour": [
           {
            "colorbar": {
             "outlinewidth": 0,
             "ticks": ""
            },
            "colorscale": [
             [
              0,
              "#0d0887"
             ],
             [
              0.1111111111111111,
              "#46039f"
             ],
             [
              0.2222222222222222,
              "#7201a8"
             ],
             [
              0.3333333333333333,
              "#9c179e"
             ],
             [
              0.4444444444444444,
              "#bd3786"
             ],
             [
              0.5555555555555556,
              "#d8576b"
             ],
             [
              0.6666666666666666,
              "#ed7953"
             ],
             [
              0.7777777777777778,
              "#fb9f3a"
             ],
             [
              0.8888888888888888,
              "#fdca26"
             ],
             [
              1,
              "#f0f921"
             ]
            ],
            "type": "histogram2dcontour"
           }
          ],
          "mesh3d": [
           {
            "colorbar": {
             "outlinewidth": 0,
             "ticks": ""
            },
            "type": "mesh3d"
           }
          ],
          "parcoords": [
           {
            "line": {
             "colorbar": {
              "outlinewidth": 0,
              "ticks": ""
             }
            },
            "type": "parcoords"
           }
          ],
          "pie": [
           {
            "automargin": true,
            "type": "pie"
           }
          ],
          "scatter": [
           {
            "fillpattern": {
             "fillmode": "overlay",
             "size": 10,
             "solidity": 0.2
            },
            "type": "scatter"
           }
          ],
          "scatter3d": [
           {
            "line": {
             "colorbar": {
              "outlinewidth": 0,
              "ticks": ""
             }
            },
            "marker": {
             "colorbar": {
              "outlinewidth": 0,
              "ticks": ""
             }
            },
            "type": "scatter3d"
           }
          ],
          "scattercarpet": [
           {
            "marker": {
             "colorbar": {
              "outlinewidth": 0,
              "ticks": ""
             }
            },
            "type": "scattercarpet"
           }
          ],
          "scattergeo": [
           {
            "marker": {
             "colorbar": {
              "outlinewidth": 0,
              "ticks": ""
             }
            },
            "type": "scattergeo"
           }
          ],
          "scattergl": [
           {
            "marker": {
             "colorbar": {
              "outlinewidth": 0,
              "ticks": ""
             }
            },
            "type": "scattergl"
           }
          ],
          "scattermapbox": [
           {
            "marker": {
             "colorbar": {
              "outlinewidth": 0,
              "ticks": ""
             }
            },
            "type": "scattermapbox"
           }
          ],
          "scatterpolar": [
           {
            "marker": {
             "colorbar": {
              "outlinewidth": 0,
              "ticks": ""
             }
            },
            "type": "scatterpolar"
           }
          ],
          "scatterpolargl": [
           {
            "marker": {
             "colorbar": {
              "outlinewidth": 0,
              "ticks": ""
             }
            },
            "type": "scatterpolargl"
           }
          ],
          "scatterternary": [
           {
            "marker": {
             "colorbar": {
              "outlinewidth": 0,
              "ticks": ""
             }
            },
            "type": "scatterternary"
           }
          ],
          "surface": [
           {
            "colorbar": {
             "outlinewidth": 0,
             "ticks": ""
            },
            "colorscale": [
             [
              0,
              "#0d0887"
             ],
             [
              0.1111111111111111,
              "#46039f"
             ],
             [
              0.2222222222222222,
              "#7201a8"
             ],
             [
              0.3333333333333333,
              "#9c179e"
             ],
             [
              0.4444444444444444,
              "#bd3786"
             ],
             [
              0.5555555555555556,
              "#d8576b"
             ],
             [
              0.6666666666666666,
              "#ed7953"
             ],
             [
              0.7777777777777778,
              "#fb9f3a"
             ],
             [
              0.8888888888888888,
              "#fdca26"
             ],
             [
              1,
              "#f0f921"
             ]
            ],
            "type": "surface"
           }
          ],
          "table": [
           {
            "cells": {
             "fill": {
              "color": "#EBF0F8"
             },
             "line": {
              "color": "white"
             }
            },
            "header": {
             "fill": {
              "color": "#C8D4E3"
             },
             "line": {
              "color": "white"
             }
            },
            "type": "table"
           }
          ]
         },
         "layout": {
          "annotationdefaults": {
           "arrowcolor": "#2a3f5f",
           "arrowhead": 0,
           "arrowwidth": 1
          },
          "autotypenumbers": "strict",
          "coloraxis": {
           "colorbar": {
            "outlinewidth": 0,
            "ticks": ""
           }
          },
          "colorscale": {
           "diverging": [
            [
             0,
             "#8e0152"
            ],
            [
             0.1,
             "#c51b7d"
            ],
            [
             0.2,
             "#de77ae"
            ],
            [
             0.3,
             "#f1b6da"
            ],
            [
             0.4,
             "#fde0ef"
            ],
            [
             0.5,
             "#f7f7f7"
            ],
            [
             0.6,
             "#e6f5d0"
            ],
            [
             0.7,
             "#b8e186"
            ],
            [
             0.8,
             "#7fbc41"
            ],
            [
             0.9,
             "#4d9221"
            ],
            [
             1,
             "#276419"
            ]
           ],
           "sequential": [
            [
             0,
             "#0d0887"
            ],
            [
             0.1111111111111111,
             "#46039f"
            ],
            [
             0.2222222222222222,
             "#7201a8"
            ],
            [
             0.3333333333333333,
             "#9c179e"
            ],
            [
             0.4444444444444444,
             "#bd3786"
            ],
            [
             0.5555555555555556,
             "#d8576b"
            ],
            [
             0.6666666666666666,
             "#ed7953"
            ],
            [
             0.7777777777777778,
             "#fb9f3a"
            ],
            [
             0.8888888888888888,
             "#fdca26"
            ],
            [
             1,
             "#f0f921"
            ]
           ],
           "sequentialminus": [
            [
             0,
             "#0d0887"
            ],
            [
             0.1111111111111111,
             "#46039f"
            ],
            [
             0.2222222222222222,
             "#7201a8"
            ],
            [
             0.3333333333333333,
             "#9c179e"
            ],
            [
             0.4444444444444444,
             "#bd3786"
            ],
            [
             0.5555555555555556,
             "#d8576b"
            ],
            [
             0.6666666666666666,
             "#ed7953"
            ],
            [
             0.7777777777777778,
             "#fb9f3a"
            ],
            [
             0.8888888888888888,
             "#fdca26"
            ],
            [
             1,
             "#f0f921"
            ]
           ]
          },
          "colorway": [
           "#636efa",
           "#EF553B",
           "#00cc96",
           "#ab63fa",
           "#FFA15A",
           "#19d3f3",
           "#FF6692",
           "#B6E880",
           "#FF97FF",
           "#FECB52"
          ],
          "font": {
           "color": "#2a3f5f"
          },
          "geo": {
           "bgcolor": "white",
           "lakecolor": "white",
           "landcolor": "#E5ECF6",
           "showlakes": true,
           "showland": true,
           "subunitcolor": "white"
          },
          "hoverlabel": {
           "align": "left"
          },
          "hovermode": "closest",
          "mapbox": {
           "style": "light"
          },
          "paper_bgcolor": "white",
          "plot_bgcolor": "#E5ECF6",
          "polar": {
           "angularaxis": {
            "gridcolor": "white",
            "linecolor": "white",
            "ticks": ""
           },
           "bgcolor": "#E5ECF6",
           "radialaxis": {
            "gridcolor": "white",
            "linecolor": "white",
            "ticks": ""
           }
          },
          "scene": {
           "xaxis": {
            "backgroundcolor": "#E5ECF6",
            "gridcolor": "white",
            "gridwidth": 2,
            "linecolor": "white",
            "showbackground": true,
            "ticks": "",
            "zerolinecolor": "white"
           },
           "yaxis": {
            "backgroundcolor": "#E5ECF6",
            "gridcolor": "white",
            "gridwidth": 2,
            "linecolor": "white",
            "showbackground": true,
            "ticks": "",
            "zerolinecolor": "white"
           },
           "zaxis": {
            "backgroundcolor": "#E5ECF6",
            "gridcolor": "white",
            "gridwidth": 2,
            "linecolor": "white",
            "showbackground": true,
            "ticks": "",
            "zerolinecolor": "white"
           }
          },
          "shapedefaults": {
           "line": {
            "color": "#2a3f5f"
           }
          },
          "ternary": {
           "aaxis": {
            "gridcolor": "white",
            "linecolor": "white",
            "ticks": ""
           },
           "baxis": {
            "gridcolor": "white",
            "linecolor": "white",
            "ticks": ""
           },
           "bgcolor": "#E5ECF6",
           "caxis": {
            "gridcolor": "white",
            "linecolor": "white",
            "ticks": ""
           }
          },
          "title": {
           "x": 0.05
          },
          "xaxis": {
           "automargin": true,
           "gridcolor": "white",
           "linecolor": "white",
           "ticks": "",
           "title": {
            "standoff": 15
           },
           "zerolinecolor": "white",
           "zerolinewidth": 2
          },
          "yaxis": {
           "automargin": true,
           "gridcolor": "white",
           "linecolor": "white",
           "ticks": "",
           "title": {
            "standoff": 15
           },
           "zerolinecolor": "white",
           "zerolinewidth": 2
          }
         }
        },
        "title": {
         "text": "Biểu đồ nến giá cổ phiếu (05/2024 - 05/2025)"
        },
        "xaxis": {
         "rangeslider": {
          "visible": false
         },
         "title": {
          "text": "Ngày"
         }
        },
        "yaxis": {
         "title": {
          "text": "Giá (VND)"
         }
        }
       }
      }
     },
     "metadata": {},
     "output_type": "display_data"
    }
   ],
   "source": [
    "fig = go.Figure(data=[go.Candlestick(\n",
    "    x=recent_data['Ngày'],\n",
    "    open=recent_data['Giá mở cửa'],\n",
    "    high=recent_data['Giá cao nhất'],\n",
    "    low=recent_data['Giá thấp nhất'],\n",
    "    close=recent_data['Giá đóng cửa']\n",
    ")])\n",
    "\n",
    "fig.update_layout(\n",
    "    title='Biểu đồ nến giá cổ phiếu (05/2024 - 05/2025)',\n",
    "    xaxis_title='Ngày',\n",
    "    yaxis_title='Giá (VND)',\n",
    "    xaxis_rangeslider_visible=False\n",
    ")\n",
    "\n",
    "fig.show()"
   ]
  },
  {
   "cell_type": "code",
   "execution_count": 22,
   "id": "da11ea15",
   "metadata": {},
   "outputs": [],
   "source": [
    "import plotly.io as pio\n",
    "pio.renderers.default = 'vscode'"
   ]
  },
  {
   "cell_type": "code",
   "execution_count": 23,
   "id": "5951290c",
   "metadata": {},
   "outputs": [
    {
     "data": {
      "image/png": "[encoded data removed]",
      "text/plain": [
       "<Figure size 1200x600 with 1 Axes>"
      ]
     },
     "metadata": {},
     "output_type": "display_data"
    }
   ],
   "source": [
    "# Vẽ biểu đồ cột cho khối lượng khớp lệnh\n",
    "plt.figure(figsize=(12, 6))\n",
    "plt.bar(recent_data['Ngày'], recent_data['Khối lượng khớp lệnh'], color='green', alpha=0.6)\n",
    "plt.title('Khối lượng khớp lệnh theo thời gian (05/2024 - 05/2025)')\n",
    "plt.xlabel('Ngày')\n",
    "plt.ylabel('Khối lượng khớp lệnh')\n",
    "plt.grid()\n",
    "plt.xticks(rotation=45)\n",
    "plt.tight_layout()\n",
    "plt.show()"
   ]
  },
  {
   "cell_type": "code",
   "execution_count": 24,
   "id": "ae5564bd",
   "metadata": {},
   "outputs": [
    {
     "data": {
      "image/png": "[encoded data removed]",
      "text/plain": [
       "<Figure size 1200x600 with 2 Axes>"
      ]
     },
     "metadata": {},
     "output_type": "display_data"
    }
   ],
   "source": [
    "# Vẽ biểu đồ kết hợp giá đóng cửa và khối lượng\n",
    "fig, ax1 = plt.subplots(figsize=(12, 6))\n",
    "\n",
    "# Vẽ giá đóng cửa\n",
    "ax1.plot(recent_data['Ngày'], recent_data['Giá đóng cửa'], color='blue', label='Giá đóng cửa')\n",
    "ax1.set_xlabel('Ngày')\n",
    "ax1.set_ylabel('Giá đóng cửa (VND)', color='blue')\n",
    "ax1.tick_params(axis='y', labelcolor='blue')\n",
    "ax1.grid()\n",
    "\n",
    "# Tạo trục y thứ hai cho khối lượng\n",
    "ax2 = ax1.twinx()\n",
    "ax2.bar(recent_data['Ngày'], recent_data['Khối lượng khớp lệnh'], color='green', alpha=0.3, label='Khối lượng')\n",
    "ax2.set_ylabel('Khối lượng khớp lệnh', color='green')\n",
    "ax2.tick_params(axis='y', labelcolor='green')\n",
    "\n",
    "# Tiêu đề và xoay nhãn\n",
    "plt.title('Giá đóng cửa và Khối lượng khớp lệnh (05/2024 - 05/2025)')\n",
    "fig.tight_layout()\n",
    "fig.legend(loc='upper center', bbox_to_anchor=(0.5, -0.05), ncol=2)\n",
    "plt.xticks(rotation=45)\n",
    "plt.show()"
   ]
  },
  {
   "cell_type": "code",
   "execution_count": 25,
   "id": "2cc52816",
   "metadata": {},
   "outputs": [],
   "source": [
    "recent_data = data[(data['Ngày'] >= '2025-01-01') & (data['Ngày'] <= '2025-05-07')]  # Ví dụ: 3 tháng gần nhất"
   ]
  },
  {
   "cell_type": "code",
   "execution_count": 27,
   "id": "49803fd4",
   "metadata": {},
   "outputs": [
    {
     "name": "stderr",
     "output_type": "stream",
     "text": [
      "C:\\Users\\LEGION\\AppData\\Local\\Temp\\ipykernel_22128\\1876775473.py:2: SettingWithCopyWarning:\n",
      "\n",
      "\n",
      "A value is trying to be set on a copy of a slice from a DataFrame.\n",
      "Try using .loc[row_indexer,col_indexer] = value instead\n",
      "\n",
      "See the caveats in the documentation: https://pandas.pydata.org/pandas-docs/stable/user_guide/indexing.html#returning-a-view-versus-a-copy\n",
      "\n"
     ]
    },
    {
     "data": {
      "image/png": "[encoded data removed]",
      "text/plain": [
       "<Figure size 1200x600 with 1 Axes>"
      ]
     },
     "metadata": {},
     "output_type": "display_data"
    }
   ],
   "source": [
    "# Tính đường trung bình động 50 ngày\n",
    "recent_data['MA50'] = recent_data['Giá đóng cửa'].rolling(window=50).mean()\n",
    "\n",
    "# Vẽ biểu đồ giá đóng cửa và MA50\n",
    "plt.figure(figsize=(12, 6))\n",
    "plt.plot(recent_data['Ngày'], recent_data['Giá đóng cửa'], label='Giá đóng cửa', color='blue')\n",
    "plt.plot(recent_data['Ngày'], recent_data['MA50'], label='MA50', color='red')\n",
    "plt.title('Giá đóng cửa và Đường trung bình động 50 ngày (05/2024 - 05/2025)')\n",
    "plt.xlabel('Ngày')\n",
    "plt.ylabel('Giá đóng cửa (VND)')\n",
    "plt.legend()\n",
    "plt.grid()\n",
    "plt.xticks(rotation=45)\n",
    "plt.tight_layout()\n",
    "plt.savefig('chart.png')\n",
    "plt.show()"
   ]
  },
  {
   "cell_type": "code",
   "execution_count": 28,
   "id": "3daf05a0",
   "metadata": {},
   "outputs": [
    {
     "name": "stderr",
     "output_type": "stream",
     "text": [
      "C:\\Users\\LEGION\\AppData\\Local\\Temp\\ipykernel_22128\\434282203.py:2: SettingWithCopyWarning:\n",
      "\n",
      "\n",
      "A value is trying to be set on a copy of a slice from a DataFrame.\n",
      "Try using .loc[row_indexer,col_indexer] = value instead\n",
      "\n",
      "See the caveats in the documentation: https://pandas.pydata.org/pandas-docs/stable/user_guide/indexing.html#returning-a-view-versus-a-copy\n",
      "\n"
     ]
    },
    {
     "data": {
      "application/vnd.plotly.v1+json": {
       "config": {
        "plotlyServerURL": "https://plot.ly"
       },
       "data": [
        {
         "line": {
          "color": "blue"
         },
         "mode": "lines",
         "name": "Giá đóng cửa",
         "type": "scatter",
         "x": [
          "2025-01-02T00:00:00",
          "2025-01-03T00:00:00",
          "2025-01-06T00:00:00",
          "2025-01-07T00:00:00",
          "2025-01-08T00:00:00",
          "2025-01-09T00:00:00",
          "2025-01-10T00:00:00",
          "2025-01-13T00:00:00",
          "2025-01-14T00:00:00",
          "2025-01-15T00:00:00",
          "2025-01-16T00:00:00",
          "2025-01-17T00:00:00",
          "2025-01-20T00:00:00",
          "2025-01-21T00:00:00",
          "2025-01-22T00:00:00",
          "2025-01-23T00:00:00",
          "2025-01-24T00:00:00",
          "2025-02-04T00:00:00",
          "2025-02-05T00:00:00",
          "2025-02-06T00:00:00",
          "2025-02-07T00:00:00",
          "2025-02-10T00:00:00",
          "2025-02-11T00:00:00",
          "2025-02-12T00:00:00",
          "2025-02-13T00:00:00",
          "2025-02-14T00:00:00",
          "2025-02-17T00:00:00",
          "2025-02-18T00:00:00",
          "2025-02-19T00:00:00",
          "2025-02-20T00:00:00",
          "2025-02-21T00:00:00",
          "2025-02-24T00:00:00",
          "2025-02-25T00:00:00",
          "2025-02-26T00:00:00",
          "2025-02-27T00:00:00",
          "2025-02-28T00:00:00",
          "2025-03-03T00:00:00",
          "2025-03-04T00:00:00",
          "2025-03-05T00:00:00",
          "2025-03-06T00:00:00",
          "2025-03-07T00:00:00",
          "2025-03-10T00:00:00",
          "2025-03-11T00:00:00",
          "2025-03-12T00:00:00",
          "2025-03-13T00:00:00",
          "2025-03-14T00:00:00",
          "2025-03-17T00:00:00",
          "2025-03-18T00:00:00",
          "2025-03-19T00:00:00",
          "2025-03-20T00:00:00",
          "2025-03-21T00:00:00",
          "2025-03-24T00:00:00",
          "2025-03-25T00:00:00",
          "2025-03-26T00:00:00",
          "2025-03-27T00:00:00",
          "2025-03-28T00:00:00",
          "2025-03-31T00:00:00",
          "2025-04-01T00:00:00",
          "2025-04-02T00:00:00",
          "2025-04-03T00:00:00",
          "2025-04-04T00:00:00",
          "2025-04-08T00:00:00",
          "2025-04-09T00:00:00",
          "2025-04-10T00:00:00",
          "2025-04-11T00:00:00",
          "2025-04-14T00:00:00",
          "2025-04-15T00:00:00",
          "2025-04-16T00:00:00",
          "2025-04-17T00:00:00",
          "2025-04-18T00:00:00",
          "2025-04-21T00:00:00",
          "2025-04-22T00:00:00",
          "2025-04-23T00:00:00",
          "2025-04-24T00:00:00",
          "2025-04-25T00:00:00",
          "2025-04-28T00:00:00",
          "2025-04-29T00:00:00",
          "2025-05-07T00:00:00"
         ],
         "y": [
          67,
          65.4,
          64,
          64.8,
          64.1,
          64.4,
          64.3,
          65,
          65.4,
          64.9,
          65.6,
          66.7,
          66.9,
          66,
          65.4,
          65.9,
          65,
          66,
          66.5,
          66,
          66.8,
          66.8,
          67.5,
          68,
          67.9,
          67.5,
          66.7,
          67.5,
          72.2,
          72.1,
          72,
          75,
          74.3,
          73.6,
          74,
          72.4,
          72.6,
          73.1,
          73.1,
          73.7,
          73.3,
          75,
          74.6,
          73.8,
          72.2,
          70.9,
          70.8,
          71.3,
          70.1,
          71.5,
          71.5,
          72,
          72.5,
          72.6,
          73.1,
          70.9,
          71.4,
          71.5,
          71,
          66.1,
          65.8,
          61.2,
          61,
          65.2,
          67.5,
          67.4,
          65.5,
          65.4,
          64.8,
          65.5,
          68.2,
          67.5,
          68.5,
          68.4,
          69.9,
          69,
          68.5,
          70.1
         ]
        },
        {
         "line": {
          "color": "red"
         },
         "mode": "lines",
         "name": "MA50",
         "type": "scatter",
         "x": [
          "2025-01-02T00:00:00",
          "2025-01-03T00:00:00",
          "2025-01-06T00:00:00",
          "2025-01-07T00:00:00",
          "2025-01-08T00:00:00",
          "2025-01-09T00:00:00",
          "2025-01-10T00:00:00",
          "2025-01-13T00:00:00",
          "2025-01-14T00:00:00",
          "2025-01-15T00:00:00",
          "2025-01-16T00:00:00",
          "2025-01-17T00:00:00",
          "2025-01-20T00:00:00",
          "2025-01-21T00:00:00",
          "2025-01-22T00:00:00",
          "2025-01-23T00:00:00",
          "2025-01-24T00:00:00",
          "2025-02-04T00:00:00",
          "2025-02-05T00:00:00",
          "2025-02-06T00:00:00",
          "2025-02-07T00:00:00",
          "2025-02-10T00:00:00",
          "2025-02-11T00:00:00",
          "2025-02-12T00:00:00",
          "2025-02-13T00:00:00",
          "2025-02-14T00:00:00",
          "2025-02-17T00:00:00",
          "2025-02-18T00:00:00",
          "2025-02-19T00:00:00",
          "2025-02-20T00:00:00",
          "2025-02-21T00:00:00",
          "2025-02-24T00:00:00",
          "2025-02-25T00:00:00",
          "2025-02-26T00:00:00",
          "2025-02-27T00:00:00",
          "2025-02-28T00:00:00",
          "2025-03-03T00:00:00",
          "2025-03-04T00:00:00",
          "2025-03-05T00:00:00",
          "2025-03-06T00:00:00",
          "2025-03-07T00:00:00",
          "2025-03-10T00:00:00",
          "2025-03-11T00:00:00",
          "2025-03-12T00:00:00",
          "2025-03-13T00:00:00",
          "2025-03-14T00:00:00",
          "2025-03-17T00:00:00",
          "2025-03-18T00:00:00",
          "2025-03-19T00:00:00",
          "2025-03-20T00:00:00",
          "2025-03-21T00:00:00",
          "2025-03-24T00:00:00",
          "2025-03-25T00:00:00",
          "2025-03-26T00:00:00",
          "2025-03-27T00:00:00",
          "2025-03-28T00:00:00",
          "2025-03-31T00:00:00",
          "2025-04-01T00:00:00",
          "2025-04-02T00:00:00",
          "2025-04-03T00:00:00",
          "2025-04-04T00:00:00",
          "2025-04-08T00:00:00",
          "2025-04-09T00:00:00",
          "2025-04-10T00:00:00",
          "2025-04-11T00:00:00",
          "2025-04-14T00:00:00",
          "2025-04-15T00:00:00",
          "2025-04-16T00:00:00",
          "2025-04-17T00:00:00",
          "2025-04-18T00:00:00",
          "2025-04-21T00:00:00",
          "2025-04-22T00:00:00",
          "2025-04-23T00:00:00",
          "2025-04-24T00:00:00",
          "2025-04-25T00:00:00",
          "2025-04-28T00:00:00",
          "2025-04-29T00:00:00",
          "2025-05-07T00:00:00"
         ],
         "y": [
          null,
          null,
          null,
          null,
          null,
          null,
          null,
          null,
          null,
          null,
          null,
          null,
          null,
          null,
          null,
          null,
          null,
          null,
          null,
          null,
          null,
          null,
          null,
          null,
          null,
          null,
          null,
          null,
          null,
          null,
          null,
          null,
          null,
          null,
          null,
          null,
          null,
          null,
          null,
          null,
          null,
          null,
          null,
          null,
          null,
          null,
          null,
          null,
          null,
          68.992,
          69.082,
          69.214,
          69.384,
          69.54,
          69.72,
          69.85,
          69.992,
          70.122,
          70.234,
          70.258,
          70.262,
          70.152,
          70.03399999999999,
          70.018,
          70.06,
          70.09,
          70.1,
          70.088,
          70.054,
          70.044,
          70.072,
          70.086,
          70.106,
          70.11399999999999,
          70.154,
          70.184,
          70.22,
          70.27199999999999
         ]
        }
       ],
       "layout": {
        "template": {
         "data": {
          "bar": [
           {
            "error_x": {
             "color": "#2a3f5f"
            },
            "error_y": {
             "color": "#2a3f5f"
            },
            "marker": {
             "line": {
              "color": "#E5ECF6",
              "width": 0.5
             },
             "pattern": {
              "fillmode": "overlay",
              "size": 10,
              "solidity": 0.2
             }
            },
            "type": "bar"
           }
          ],
          "barpolar": [
           {
            "marker": {
             "line": {
              "color": "#E5ECF6",
              "width": 0.5
             },
             "pattern": {
              "fillmode": "overlay",
              "size": 10,
              "solidity": 0.2
             }
            },
            "type": "barpolar"
           }
          ],
          "carpet": [
           {
            "aaxis": {
             "endlinecolor": "#2a3f5f",
             "gridcolor": "white",
             "linecolor": "white",
             "minorgridcolor": "white",
             "startlinecolor": "#2a3f5f"
            },
            "baxis": {
             "endlinecolor": "#2a3f5f",
             "gridcolor": "white",
             "linecolor": "white",
             "minorgridcolor": "white",
             "startlinecolor": "#2a3f5f"
            },
            "type": "carpet"
           }
          ],
          "choropleth": [
           {
            "colorbar": {
             "outlinewidth": 0,
             "ticks": ""
            },
            "type": "choropleth"
           }
          ],
          "contour": [
           {
            "colorbar": {
             "outlinewidth": 0,
             "ticks": ""
            },
            "colorscale": [
             [
              0,
              "#0d0887"
             ],
             [
              0.1111111111111111,
              "#46039f"
             ],
             [
              0.2222222222222222,
              "#7201a8"
             ],
             [
              0.3333333333333333,
              "#9c179e"
             ],
             [
              0.4444444444444444,
              "#bd3786"
             ],
             [
              0.5555555555555556,
              "#d8576b"
             ],
             [
              0.6666666666666666,
              "#ed7953"
             ],
             [
              0.7777777777777778,
              "#fb9f3a"
             ],
             [
              0.8888888888888888,
              "#fdca26"
             ],
             [
              1,
              "#f0f921"
             ]
            ],
            "type": "contour"
           }
          ],
          "contourcarpet": [
           {
            "colorbar": {
             "outlinewidth": 0,
             "ticks": ""
            },
            "type": "contourcarpet"
           }
          ],
          "heatmap": [
           {
            "colorbar": {
             "outlinewidth": 0,
             "ticks": ""
            },
            "colorscale": [
             [
              0,
              "#0d0887"
             ],
             [
              0.1111111111111111,
              "#46039f"
             ],
             [
              0.2222222222222222,
              "#7201a8"
             ],
             [
              0.3333333333333333,
              "#9c179e"
             ],
             [
              0.4444444444444444,
              "#bd3786"
             ],
             [
              0.5555555555555556,
              "#d8576b"
             ],
             [
              0.6666666666666666,
              "#ed7953"
             ],
             [
              0.7777777777777778,
              "#fb9f3a"
             ],
             [
              0.8888888888888888,
              "#fdca26"
             ],
             [
              1,
              "#f0f921"
             ]
            ],
            "type": "heatmap"
           }
          ],
          "heatmapgl": [
           {
            "colorbar": {
             "outlinewidth": 0,
             "ticks": ""
            },
            "colorscale": [
             [
              0,
              "#0d0887"
             ],
             [
              0.1111111111111111,
              "#46039f"
             ],
             [
              0.2222222222222222,
              "#7201a8"
             ],
             [
              0.3333333333333333,
              "#9c179e"
             ],
             [
              0.4444444444444444,
              "#bd3786"
             ],
             [
              0.5555555555555556,
              "#d8576b"
             ],
             [
              0.6666666666666666,
              "#ed7953"
             ],
             [
              0.7777777777777778,
              "#fb9f3a"
             ],
             [
              0.8888888888888888,
              "#fdca26"
             ],
             [
              1,
              "#f0f921"
             ]
            ],
            "type": "heatmapgl"
           }
          ],
          "histogram": [
           {
            "marker": {
             "pattern": {
              "fillmode": "overlay",
              "size": 10,
              "solidity": 0.2
             }
            },
            "type": "histogram"
           }
          ],
          "histogram2d": [
           {
            "colorbar": {
             "outlinewidth": 0,
             "ticks": ""
            },
            "colorscale": [
             [
              0,
              "#0d0887"
             ],
             [
              0.1111111111111111,
              "#46039f"
             ],
             [
              0.2222222222222222,
              "#7201a8"
             ],
             [
              0.3333333333333333,
              "#9c179e"
             ],
             [
              0.4444444444444444,
              "#bd3786"
             ],
             [
              0.5555555555555556,
              "#d8576b"
             ],
             [
              0.6666666666666666,
              "#ed7953"
             ],
             [
              0.7777777777777778,
              "#fb9f3a"
             ],
             [
              0.8888888888888888,
              "#fdca26"
             ],
             [
              1,
              "#f0f921"
             ]
            ],
            "type": "histogram2d"
           }
          ],
          "histogram2dcontour": [
           {
            "colorbar": {
             "outlinewidth": 0,
             "ticks": ""
            },
            "colorscale": [
             [
              0,
              "#0d0887"
             ],
             [
              0.1111111111111111,
              "#46039f"
             ],
             [
              0.2222222222222222,
              "#7201a8"
             ],
             [
              0.3333333333333333,
              "#9c179e"
             ],
             [
              0.4444444444444444,
              "#bd3786"
             ],
             [
              0.5555555555555556,
              "#d8576b"
             ],
             [
              0.6666666666666666,
              "#ed7953"
             ],
             [
              0.7777777777777778,
              "#fb9f3a"
             ],
             [
              0.8888888888888888,
              "#fdca26"
             ],
             [
              1,
              "#f0f921"
             ]
            ],
            "type": "histogram2dcontour"
           }
          ],
          "mesh3d": [
           {
            "colorbar": {
             "outlinewidth": 0,
             "ticks": ""
            },
            "type": "mesh3d"
           }
          ],
          "parcoords": [
           {
            "line": {
             "colorbar": {
              "outlinewidth": 0,
              "ticks": ""
             }
            },
            "type": "parcoords"
           }
          ],
          "pie": [
           {
            "automargin": true,
            "type": "pie"
           }
          ],
          "scatter": [
           {
            "fillpattern": {
             "fillmode": "overlay",
             "size": 10,
             "solidity": 0.2
            },
            "type": "scatter"
           }
          ],
          "scatter3d": [
           {
            "line": {
             "colorbar": {
              "outlinewidth": 0,
              "ticks": ""
             }
            },
            "marker": {
             "colorbar": {
              "outlinewidth": 0,
              "ticks": ""
             }
            },
            "type": "scatter3d"
           }
          ],
          "scattercarpet": [
           {
            "marker": {
             "colorbar": {
              "outlinewidth": 0,
              "ticks": ""
             }
            },
            "type": "scattercarpet"
           }
          ],
          "scattergeo": [
           {
            "marker": {
             "colorbar": {
              "outlinewidth": 0,
              "ticks": ""
             }
            },
            "type": "scattergeo"
           }
          ],
          "scattergl": [
           {
            "marker": {
             "colorbar": {
              "outlinewidth": 0,
              "ticks": ""
             }
            },
            "type": "scattergl"
           }
          ],
          "scattermapbox": [
           {
            "marker": {
             "colorbar": {
              "outlinewidth": 0,
              "ticks": ""
             }
            },
            "type": "scattermapbox"
           }
          ],
          "scatterpolar": [
           {
            "marker": {
             "colorbar": {
              "outlinewidth": 0,
              "ticks": ""
             }
            },
            "type": "scatterpolar"
           }
          ],
          "scatterpolargl": [
           {
            "marker": {
             "colorbar": {
              "outlinewidth": 0,
              "ticks": ""
             }
            },
            "type": "scatterpolargl"
           }
          ],
          "scatterternary": [
           {
            "marker": {
             "colorbar": {
              "outlinewidth": 0,
              "ticks": ""
             }
            },
            "type": "scatterternary"
           }
          ],
          "surface": [
           {
            "colorbar": {
             "outlinewidth": 0,
             "ticks": ""
            },
            "colorscale": [
             [
              0,
              "#0d0887"
             ],
             [
              0.1111111111111111,
              "#46039f"
             ],
             [
              0.2222222222222222,
              "#7201a8"
             ],
             [
              0.3333333333333333,
              "#9c179e"
             ],
             [
              0.4444444444444444,
              "#bd3786"
             ],
             [
              0.5555555555555556,
              "#d8576b"
             ],
             [
              0.6666666666666666,
              "#ed7953"
             ],
             [
              0.7777777777777778,
              "#fb9f3a"
             ],
             [
              0.8888888888888888,
              "#fdca26"
             ],
             [
              1,
              "#f0f921"
             ]
            ],
            "type": "surface"
           }
          ],
          "table": [
           {
            "cells": {
             "fill": {
              "color": "#EBF0F8"
             },
             "line": {
              "color": "white"
             }
            },
            "header": {
             "fill": {
              "color": "#C8D4E3"
             },
             "line": {
              "color": "white"
             }
            },
            "type": "table"
           }
          ]
         },
         "layout": {
          "annotationdefaults": {
           "arrowcolor": "#2a3f5f",
           "arrowhead": 0,
           "arrowwidth": 1
          },
          "autotypenumbers": "strict",
          "coloraxis": {
           "colorbar": {
            "outlinewidth": 0,
            "ticks": ""
           }
          },
          "colorscale": {
           "diverging": [
            [
             0,
             "#8e0152"
            ],
            [
             0.1,
             "#c51b7d"
            ],
            [
             0.2,
             "#de77ae"
            ],
            [
             0.3,
             "#f1b6da"
            ],
            [
             0.4,
             "#fde0ef"
            ],
            [
             0.5,
             "#f7f7f7"
            ],
            [
             0.6,
             "#e6f5d0"
            ],
            [
             0.7,
             "#b8e186"
            ],
            [
             0.8,
             "#7fbc41"
            ],
            [
             0.9,
             "#4d9221"
            ],
            [
             1,
             "#276419"
            ]
           ],
           "sequential": [
            [
             0,
             "#0d0887"
            ],
            [
             0.1111111111111111,
             "#46039f"
            ],
            [
             0.2222222222222222,
             "#7201a8"
            ],
            [
             0.3333333333333333,
             "#9c179e"
            ],
            [
             0.4444444444444444,
             "#bd3786"
            ],
            [
             0.5555555555555556,
             "#d8576b"
            ],
            [
             0.6666666666666666,
             "#ed7953"
            ],
            [
             0.7777777777777778,
             "#fb9f3a"
            ],
            [
             0.8888888888888888,
             "#fdca26"
            ],
            [
             1,
             "#f0f921"
            ]
           ],
           "sequentialminus": [
            [
             0,
             "#0d0887"
            ],
            [
             0.1111111111111111,
             "#46039f"
            ],
            [
             0.2222222222222222,
             "#7201a8"
            ],
            [
             0.3333333333333333,
             "#9c179e"
            ],
            [
             0.4444444444444444,
             "#bd3786"
            ],
            [
             0.5555555555555556,
             "#d8576b"
            ],
            [
             0.6666666666666666,
             "#ed7953"
            ],
            [
             0.7777777777777778,
             "#fb9f3a"
            ],
            [
             0.8888888888888888,
             "#fdca26"
            ],
            [
             1,
             "#f0f921"
            ]
           ]
          },
          "colorway": [
           "#636efa",
           "#EF553B",
           "#00cc96",
           "#ab63fa",
           "#FFA15A",
           "#19d3f3",
           "#FF6692",
           "#B6E880",
           "#FF97FF",
           "#FECB52"
          ],
          "font": {
           "color": "#2a3f5f"
          },
          "geo": {
           "bgcolor": "white",
           "lakecolor": "white",
           "landcolor": "#E5ECF6",
           "showlakes": true,
           "showland": true,
           "subunitcolor": "white"
          },
          "hoverlabel": {
           "align": "left"
          },
          "hovermode": "closest",
          "mapbox": {
           "style": "light"
          },
          "paper_bgcolor": "white",
          "plot_bgcolor": "#E5ECF6",
          "polar": {
           "angularaxis": {
            "gridcolor": "white",
            "linecolor": "white",
            "ticks": ""
           },
           "bgcolor": "#E5ECF6",
           "radialaxis": {
            "gridcolor": "white",
            "linecolor": "white",
            "ticks": ""
           }
          },
          "scene": {
           "xaxis": {
            "backgroundcolor": "#E5ECF6",
            "gridcolor": "white",
            "gridwidth": 2,
            "linecolor": "white",
            "showbackground": true,
            "ticks": "",
            "zerolinecolor": "white"
           },
           "yaxis": {
            "backgroundcolor": "#E5ECF6",
            "gridcolor": "white",
            "gridwidth": 2,
            "linecolor": "white",
            "showbackground": true,
            "ticks": "",
            "zerolinecolor": "white"
           },
           "zaxis": {
            "backgroundcolor": "#E5ECF6",
            "gridcolor": "white",
            "gridwidth": 2,
            "linecolor": "white",
            "showbackground": true,
            "ticks": "",
            "zerolinecolor": "white"
           }
          },
          "shapedefaults": {
           "line": {
            "color": "#2a3f5f"
           }
          },
          "ternary": {
           "aaxis": {
            "gridcolor": "white",
            "linecolor": "white",
            "ticks": ""
           },
           "baxis": {
            "gridcolor": "white",
            "linecolor": "white",
            "ticks": ""
           },
           "bgcolor": "#E5ECF6",
           "caxis": {
            "gridcolor": "white",
            "linecolor": "white",
            "ticks": ""
           }
          },
          "title": {
           "x": 0.05
          },
          "xaxis": {
           "automargin": true,
           "gridcolor": "white",
           "linecolor": "white",
           "ticks": "",
           "title": {
            "standoff": 15
           },
           "zerolinecolor": "white",
           "zerolinewidth": 2
          },
          "yaxis": {
           "automargin": true,
           "gridcolor": "white",
           "linecolor": "white",
           "ticks": "",
           "title": {
            "standoff": 15
           },
           "zerolinecolor": "white",
           "zerolinewidth": 2
          }
         }
        },
        "title": {
         "text": "Giá đóng cửa và Trung bình động 50 ngày (05/2024 - 05/2025)"
        },
        "xaxis": {
         "rangeslider": {
          "visible": true
         },
         "title": {
          "text": "Ngày"
         }
        },
        "yaxis": {
         "title": {
          "text": "Giá (VND)"
         }
        }
       }
      }
     },
     "metadata": {},
     "output_type": "display_data"
    }
   ],
   "source": [
    "# Tính đường trung bình động 50 ngày cho dữ liệu gần đây\n",
    "recent_data['MA50'] = recent_data['Giá đóng cửa'].rolling(window=50).mean()\n",
    "\n",
    "# Vẽ biểu đồ giá đóng cửa và MA50\n",
    "fig = go.Figure()\n",
    "\n",
    "# Thêm đường giá đóng cửa\n",
    "fig.add_trace(go.Scatter(x=recent_data['Ngày'], y=recent_data['Giá đóng cửa'], \n",
    "                         mode='lines', name='Giá đóng cửa', line=dict(color='blue')))\n",
    "\n",
    "# Thêm đường MA50\n",
    "fig.add_trace(go.Scatter(x=recent_data['Ngày'], y=recent_data['MA50'], \n",
    "                         mode='lines', name='MA50', line=dict(color='red')))\n",
    "\n",
    "fig.update_layout(\n",
    "    title='Giá đóng cửa và Trung bình động 50 ngày (05/2024 - 05/2025)',\n",
    "    xaxis_title='Ngày',\n",
    "    yaxis_title='Giá (VND)',\n",
    "    xaxis_rangeslider_visible=True\n",
    ")\n",
    "\n",
    "fig.show()"
   ]
  },
  {
   "cell_type": "code",
   "execution_count": 31,
   "id": "edb9cabb",
   "metadata": {},
   "outputs": [
    {
     "data": {
      "application/vnd.plotly.v1+json": {
       "config": {
        "plotlyServerURL": "https://plot.ly"
       },
       "data": [
        {
         "coloraxis": "coloraxis",
         "hovertemplate": "Tháng: %{x}<br>Năm: %{y}<br>Giá đóng cửa (VND): %{z}<extra></extra>",
         "name": "0",
         "type": "heatmap",
         "x": [
          1,
          2,
          3,
          4,
          5,
          6,
          7,
          8,
          9,
          10,
          11,
          12
         ],
         "xaxis": "x",
         "y": [
          2000,
          2001,
          2002,
          2003,
          2004,
          2005,
          2006,
          2007,
          2008,
          2009,
          2010,
          2011,
          2012,
          2013,
          2014,
          2015,
          2016,
          2017,
          2018,
          2019,
          2020,
          2021,
          2022,
          2023,
          2024,
          2025
         ],
         "yaxis": "y",
         "z": [
          [
           null,
           null,
           null,
           null,
           null,
           null,
           16.15,
           18.123076923076923,
           18.058333333333334,
           19.515384615384615,
           24.04615384615385,
           30.207692307692305
          ],
          [
           36.31,
           39.71666666666667,
           39.646153846153844,
           45.125,
           55.03846153846154,
           76,
           71,
           50.5,
           40.13636363636363,
           33.114285714285714,
           40.599999999999994,
           35.96153846153846
          ],
          [
           29.553846153846152,
           27.4,
           25.43809523809524,
           29.335,
           33.08181818181818,
           32.625,
           27.17391304347826,
           20.7,
           19.919999999999998,
           18.878260869565217,
           18.823809523809523,
           20.03181818181818
          ],
          [
           18.33157894736842,
           16.12666666666667,
           14.952380952380953,
           12.895238095238096,
           12.9,
           12.466666666666667,
           12.221739130434784,
           10.785714285714286,
           10.665,
           10.265217391304347,
           12.25,
           15.278260869565216
          ],
          [
           18.62142857142857,
           23.75,
           27.37826086956522,
           24.804761904761904,
           25.21,
           24.981818181818184,
           24.277272727272727,
           22.186363636363637,
           22.755000000000003,
           23.41904761904762,
           23.727272727272727,
           23.87391304347826
          ],
          [
           23.965,
           23.92,
           24.395652173913046,
           26.666666666666668,
           25.889999999999997,
           26.545454545454547,
           26.009523809523813,
           27.14782608695652,
           32.21904761904762,
           35.37142857142857,
           34.800000000000004,
           34.40909090909091
          ],
          [
           34.97222222222222,
           42.01176470588236,
           60.06521739130435,
           89.25,
           92.85714285714286,
           84.8409090909091,
           75.88095238095238,
           77.23913043478261,
           86.1,
           91,
           97.54545454545455,
           129.71428571428572
          ],
          [
           174.13636363636363,
           231.71428571428572,
           276.09090909090907,
           242.16666666666666,
           183.95454545454547,
           158.71428571428572,
           143.22727272727272,
           131.08695652173913,
           139.8421052631579,
           157.8695652173913,
           143.0909090909091,
           139.7
          ],
          [
           126.22727272727273,
           110.83333333333333,
           69.76190476190476,
           54.531578947368416,
           39.92,
           29.523809523809526,
           32.46086956521739,
           35.27142857142857,
           44.305,
           30.26086956521739,
           24.555,
           21.93913043478261
          ],
          [
           22.025,
           19.015,
           20.236363636363635,
           31.75,
           42.655,
           47.304545454545455,
           39.8304347826087,
           48.23809523809524,
           50.457142857142856,
           54.90909090909091,
           49.50952380952381,
           42.52173913043478
          ],
          [
           44.03,
           44.32000000000001,
           49.73913043478261,
           51.225,
           48.285000000000004,
           41.31363636363636,
           19.654545454545453,
           16.92727272727273,
           16.815,
           15.514285714285714,
           14.336363636363636,
           17.35217391304348
          ],
          [
           16.978947368421053,
           15.6,
           13.478260869565217,
           12.710526315789474,
           11.24,
           11.713636363636363,
           11.428571428571429,
           11.308695652173913,
           12.319047619047618,
           11.404761904761905,
           11.299999999999999,
           11.454545454545455
          ],
          [
           11.94375,
           13.514285714285714,
           13.654545454545454,
           16.663157894736845,
           17.09090909090909,
           15.776190476190477,
           16.418181818181818,
           16.369565217391305,
           14.984210526315788,
           14.930434782608694,
           14.513636363636364,
           15.469999999999999
          ],
          [
           18.545454545454547,
           21.040000000000003,
           19.1,
           19.942105263157895,
           22.963636363636365,
           25.675,
           25.930434782608696,
           25.65,
           24.585,
           25.752173913043475,
           27.66190476190476,
           29.572727272727274
          ],
          [
           31.66111111111111,
           33.30588235294118,
           31.814285714285717,
           29.43,
           24.29,
           25.219047619047622,
           27.56086956521739,
           27.652380952380955,
           29.1,
           29.3,
           28.305,
           27.62608695652174
          ],
          [
           28.51,
           28.392857142857142,
           27.13181818181818,
           26.178947368421053,
           25.175,
           25.768181818181816,
           28.12173913043478,
           27.357142857142858,
           25.285714285714285,
           26.013636363636362,
           25.657142857142855,
           25.356521739130436
          ],
          [
           24.494999999999997,
           25.48125,
           24.834782608695654,
           23.615000000000002,
           21.53,
           20.88181818181818,
           20.61904761904762,
           20.143478260869564,
           21.030952380952378,
           21.04285714285714,
           21.36818181818182,
           23.175
          ],
          [
           25.129411764705882,
           26.892105263157895,
           26.76521739130435,
           26.44736842105263,
           31.62142857142857,
           34.93636363636364,
           36.15238095238095,
           35.92391304347826,
           35.6375,
           34.461363636363636,
           35.288636363636364,
           40.36666666666667
          ],
          [
           42.39,
           39.38666666666666,
           38.654545454545456,
           37.949999999999996,
           34.87954545454546,
           32.766666666666666,
           31.861363636363638,
           34.880434782608695,
           35.65526315789474,
           34.380434782608695,
           31.66818181818182,
           32.1825
          ],
          [
           31.79090909090909,
           34.85,
           33.19761904761905,
           31.68421052631579,
           32.47954545454545,
           31.994999999999997,
           33.21304347826087,
           35.40227272727273,
           37.165,
           37.42826086956522,
           37.29761904761905,
           36.10227272727273
          ],
          [
           36.141176470588235,
           34.36,
           29.625,
           30.077499999999997,
           31.185000000000002,
           31.268181818181816,
           32.2804347826087,
           35.26904761904762,
           39.023809523809526,
           41.643181818181816,
           44.083333333333336,
           47.550000000000004
          ],
          [
           52.154999999999994,
           55.76,
           55.00869565217391,
           52.58,
           56.504999999999995,
           56.91818181818182,
           52.88181818181818,
           58.07272727272727,
           65.39,
           73.02857142857142,
           70.09545454545454,
           68.72608695652174
          ],
          [
           66.56315789473685,
           71.11875,
           74.91739130434782,
           80.83,
           81.89500000000001,
           90.56363636363636,
           78.50952380952381,
           82.24347826086957,
           82.565,
           77.49047619047619,
           70.39545454545454,
           75.8409090909091
          ],
          [
           72.25625,
           71.345,
           67.70869565217392,
           67.775,
           64.175,
           62.83636363636364,
           65.75238095238095,
           63.05652173913043,
           63.38947368421053,
           60.25,
           56.70454545454545,
           57.285714285714285
          ],
          [
           56.345454545454544,
           58.21875,
           63.04761904761905,
           61.51052631578948,
           64.34545454545454,
           63.129999999999995,
           69.14347826086956,
           68.5409090909091,
           66.0578947368421,
           65,
           64.93333333333332,
           67.40454545454546
          ],
          [
           65.34117647058824,
           69.62105263157895,
           72.38095238095238,
           66.89500000000001,
           70.1,
           null,
           null,
           null,
           null,
           null,
           null,
           null
          ]
         ]
        }
       ],
       "layout": {
        "coloraxis": {
         "colorbar": {
          "title": {
           "text": "Giá đóng cửa (VND)"
          }
         },
         "colorscale": [
          [
           0,
           "#440154"
          ],
          [
           0.1111111111111111,
           "#482878"
          ],
          [
           0.2222222222222222,
           "#3e4989"
          ],
          [
           0.3333333333333333,
           "#31688e"
          ],
          [
           0.4444444444444444,
           "#26828e"
          ],
          [
           0.5555555555555556,
           "#1f9e89"
          ],
          [
           0.6666666666666666,
           "#35b779"
          ],
          [
           0.7777777777777778,
           "#6ece58"
          ],
          [
           0.8888888888888888,
           "#b5de2b"
          ],
          [
           1,
           "#fde725"
          ]
         ]
        },
        "template": {
         "data": {
          "bar": [
           {
            "error_x": {
             "color": "#2a3f5f"
            },
            "error_y": {
             "color": "#2a3f5f"
            },
            "marker": {
             "line": {
              "color": "#E5ECF6",
              "width": 0.5
             },
             "pattern": {
              "fillmode": "overlay",
              "size": 10,
              "solidity": 0.2
             }
            },
            "type": "bar"
           }
          ],
          "barpolar": [
           {
            "marker": {
             "line": {
              "color": "#E5ECF6",
              "width": 0.5
             },
             "pattern": {
              "fillmode": "overlay",
              "size": 10,
              "solidity": 0.2
             }
            },
            "type": "barpolar"
           }
          ],
          "carpet": [
           {
            "aaxis": {
             "endlinecolor": "#2a3f5f",
             "gridcolor": "white",
             "linecolor": "white",
             "minorgridcolor": "white",
             "startlinecolor": "#2a3f5f"
            },
            "baxis": {
             "endlinecolor": "#2a3f5f",
             "gridcolor": "white",
             "linecolor": "white",
             "minorgridcolor": "white",
             "startlinecolor": "#2a3f5f"
            },
            "type": "carpet"
           }
          ],
          "choropleth": [
           {
            "colorbar": {
             "outlinewidth": 0,
             "ticks": ""
            },
            "type": "choropleth"
           }
          ],
          "contour": [
           {
            "colorbar": {
             "outlinewidth": 0,
             "ticks": ""
            },
            "colorscale": [
             [
              0,
              "#0d0887"
             ],
             [
              0.1111111111111111,
              "#46039f"
             ],
             [
              0.2222222222222222,
              "#7201a8"
             ],
             [
              0.3333333333333333,
              "#9c179e"
             ],
             [
              0.4444444444444444,
              "#bd3786"
             ],
             [
              0.5555555555555556,
              "#d8576b"
             ],
             [
              0.6666666666666666,
              "#ed7953"
             ],
             [
              0.7777777777777778,
              "#fb9f3a"
             ],
             [
              0.8888888888888888,
              "#fdca26"
             ],
             [
              1,
              "#f0f921"
             ]
            ],
            "type": "contour"
           }
          ],
          "contourcarpet": [
           {
            "colorbar": {
             "outlinewidth": 0,
             "ticks": ""
            },
            "type": "contourcarpet"
           }
          ],
          "heatmap": [
           {
            "colorbar": {
             "outlinewidth": 0,
             "ticks": ""
            },
            "colorscale": [
             [
              0,
              "#0d0887"
             ],
             [
              0.1111111111111111,
              "#46039f"
             ],
             [
              0.2222222222222222,
              "#7201a8"
             ],
             [
              0.3333333333333333,
              "#9c179e"
             ],
             [
              0.4444444444444444,
              "#bd3786"
             ],
             [
              0.5555555555555556,
              "#d8576b"
             ],
             [
              0.6666666666666666,
              "#ed7953"
             ],
             [
              0.7777777777777778,
              "#fb9f3a"
             ],
             [
              0.8888888888888888,
              "#fdca26"
             ],
             [
              1,
              "#f0f921"
             ]
            ],
            "type": "heatmap"
           }
          ],
          "heatmapgl": [
           {
            "colorbar": {
             "outlinewidth": 0,
             "ticks": ""
            },
            "colorscale": [
             [
              0,
              "#0d0887"
             ],
             [
              0.1111111111111111,
              "#46039f"
             ],
             [
              0.2222222222222222,
              "#7201a8"
             ],
             [
              0.3333333333333333,
              "#9c179e"
             ],
             [
              0.4444444444444444,
              "#bd3786"
             ],
             [
              0.5555555555555556,
              "#d8576b"
             ],
             [
              0.6666666666666666,
              "#ed7953"
             ],
             [
              0.7777777777777778,
              "#fb9f3a"
             ],
             [
              0.8888888888888888,
              "#fdca26"
             ],
             [
              1,
              "#f0f921"
             ]
            ],
            "type": "heatmapgl"
           }
          ],
          "histogram": [
           {
            "marker": {
             "pattern": {
              "fillmode": "overlay",
              "size": 10,
              "solidity": 0.2
             }
            },
            "type": "histogram"
           }
          ],
          "histogram2d": [
           {
            "colorbar": {
             "outlinewidth": 0,
             "ticks": ""
            },
            "colorscale": [
             [
              0,
              "#0d0887"
             ],
             [
              0.1111111111111111,
              "#46039f"
             ],
             [
              0.2222222222222222,
              "#7201a8"
             ],
             [
              0.3333333333333333,
              "#9c179e"
             ],
             [
              0.4444444444444444,
              "#bd3786"
             ],
             [
              0.5555555555555556,
              "#d8576b"
             ],
             [
              0.6666666666666666,
              "#ed7953"
             ],
             [
              0.7777777777777778,
              "#fb9f3a"
             ],
             [
              0.8888888888888888,
              "#fdca26"
             ],
             [
              1,
              "#f0f921"
             ]
            ],
            "type": "histogram2d"
           }
          ],
          "histogram2dcontour": [
           {
            "colorbar": {
             "outlinewidth": 0,
             "ticks": ""
            },
            "colorscale": [
             [
              0,
              "#0d0887"
             ],
             [
              0.1111111111111111,
              "#46039f"
             ],
             [
              0.2222222222222222,
              "#7201a8"
             ],
             [
              0.3333333333333333,
              "#9c179e"
             ],
             [
              0.4444444444444444,
              "#bd3786"
             ],
             [
              0.5555555555555556,
              "#d8576b"
             ],
             [
              0.6666666666666666,
              "#ed7953"
             ],
             [
              0.7777777777777778,
              "#fb9f3a"
             ],
             [
              0.8888888888888888,
              "#fdca26"
             ],
             [
              1,
              "#f0f921"
             ]
            ],
            "type": "histogram2dcontour"
           }
          ],
          "mesh3d": [
           {
            "colorbar": {
             "outlinewidth": 0,
             "ticks": ""
            },
            "type": "mesh3d"
           }
          ],
          "parcoords": [
           {
            "line": {
             "colorbar": {
              "outlinewidth": 0,
              "ticks": ""
             }
            },
            "type": "parcoords"
           }
          ],
          "pie": [
           {
            "automargin": true,
            "type": "pie"
           }
          ],
          "scatter": [
           {
            "fillpattern": {
             "fillmode": "overlay",
             "size": 10,
             "solidity": 0.2
            },
            "type": "scatter"
           }
          ],
          "scatter3d": [
           {
            "line": {
             "colorbar": {
              "outlinewidth": 0,
              "ticks": ""
             }
            },
            "marker": {
             "colorbar": {
              "outlinewidth": 0,
              "ticks": ""
             }
            },
            "type": "scatter3d"
           }
          ],
          "scattercarpet": [
           {
            "marker": {
             "colorbar": {
              "outlinewidth": 0,
              "ticks": ""
             }
            },
            "type": "scattercarpet"
           }
          ],
          "scattergeo": [
           {
            "marker": {
             "colorbar": {
              "outlinewidth": 0,
              "ticks": ""
             }
            },
            "type": "scattergeo"
           }
          ],
          "scattergl": [
           {
            "marker": {
             "colorbar": {
              "outlinewidth": 0,
              "ticks": ""
             }
            },
            "type": "scattergl"
           }
          ],
          "scattermapbox": [
           {
            "marker": {
             "colorbar": {
              "outlinewidth": 0,
              "ticks": ""
             }
            },
            "type": "scattermapbox"
           }
          ],
          "scatterpolar": [
           {
            "marker": {
             "colorbar": {
              "outlinewidth": 0,
              "ticks": ""
             }
            },
            "type": "scatterpolar"
           }
          ],
          "scatterpolargl": [
           {
            "marker": {
             "colorbar": {
              "outlinewidth": 0,
              "ticks": ""
             }
            },
            "type": "scatterpolargl"
           }
          ],
          "scatterternary": [
           {
            "marker": {
             "colorbar": {
              "outlinewidth": 0,
              "ticks": ""
             }
            },
            "type": "scatterternary"
           }
          ],
          "surface": [
           {
            "colorbar": {
             "outlinewidth": 0,
             "ticks": ""
            },
            "colorscale": [
             [
              0,
              "#0d0887"
             ],
             [
              0.1111111111111111,
              "#46039f"
             ],
             [
              0.2222222222222222,
              "#7201a8"
             ],
             [
              0.3333333333333333,
              "#9c179e"
             ],
             [
              0.4444444444444444,
              "#bd3786"
             ],
             [
              0.5555555555555556,
              "#d8576b"
             ],
             [
              0.6666666666666666,
              "#ed7953"
             ],
             [
              0.7777777777777778,
              "#fb9f3a"
             ],
             [
              0.8888888888888888,
              "#fdca26"
             ],
             [
              1,
              "#f0f921"
             ]
            ],
            "type": "surface"
           }
          ],
          "table": [
           {
            "cells": {
             "fill": {
              "color": "#EBF0F8"
             },
             "line": {
              "color": "white"
             }
            },
            "header": {
             "fill": {
              "color": "#C8D4E3"
             },
             "line": {
              "color": "white"
             }
            },
            "type": "table"
           }
          ]
         },
         "layout": {
          "annotationdefaults": {
           "arrowcolor": "#2a3f5f",
           "arrowhead": 0,
           "arrowwidth": 1
          },
          "autotypenumbers": "strict",
          "coloraxis": {
           "colorbar": {
            "outlinewidth": 0,
            "ticks": ""
           }
          },
          "colorscale": {
           "diverging": [
            [
             0,
             "#8e0152"
            ],
            [
             0.1,
             "#c51b7d"
            ],
            [
             0.2,
             "#de77ae"
            ],
            [
             0.3,
             "#f1b6da"
            ],
            [
             0.4,
             "#fde0ef"
            ],
            [
             0.5,
             "#f7f7f7"
            ],
            [
             0.6,
             "#e6f5d0"
            ],
            [
             0.7,
             "#b8e186"
            ],
            [
             0.8,
             "#7fbc41"
            ],
            [
             0.9,
             "#4d9221"
            ],
            [
             1,
             "#276419"
            ]
           ],
           "sequential": [
            [
             0,
             "#0d0887"
            ],
            [
             0.1111111111111111,
             "#46039f"
            ],
            [
             0.2222222222222222,
             "#7201a8"
            ],
            [
             0.3333333333333333,
             "#9c179e"
            ],
            [
             0.4444444444444444,
             "#bd3786"
            ],
            [
             0.5555555555555556,
             "#d8576b"
            ],
            [
             0.6666666666666666,
             "#ed7953"
            ],
            [
             0.7777777777777778,
             "#fb9f3a"
            ],
            [
             0.8888888888888888,
             "#fdca26"
            ],
            [
             1,
             "#f0f921"
            ]
           ],
           "sequentialminus": [
            [
             0,
             "#0d0887"
            ],
            [
             0.1111111111111111,
             "#46039f"
            ],
            [
             0.2222222222222222,
             "#7201a8"
            ],
            [
             0.3333333333333333,
             "#9c179e"
            ],
            [
             0.4444444444444444,
             "#bd3786"
            ],
            [
             0.5555555555555556,
             "#d8576b"
            ],
            [
             0.6666666666666666,
             "#ed7953"
            ],
            [
             0.7777777777777778,
             "#fb9f3a"
            ],
            [
             0.8888888888888888,
             "#fdca26"
            ],
            [
             1,
             "#f0f921"
            ]
           ]
          },
          "colorway": [
           "#636efa",
           "#EF553B",
           "#00cc96",
           "#ab63fa",
           "#FFA15A",
           "#19d3f3",
           "#FF6692",
           "#B6E880",
           "#FF97FF",
           "#FECB52"
          ],
          "font": {
           "color": "#2a3f5f"
          },
          "geo": {
           "bgcolor": "white",
           "lakecolor": "white",
           "landcolor": "#E5ECF6",
           "showlakes": true,
           "showland": true,
           "subunitcolor": "white"
          },
          "hoverlabel": {
           "align": "left"
          },
          "hovermode": "closest",
          "mapbox": {
           "style": "light"
          },
          "paper_bgcolor": "white",
          "plot_bgcolor": "#E5ECF6",
          "polar": {
           "angularaxis": {
            "gridcolor": "white",
            "linecolor": "white",
            "ticks": ""
           },
           "bgcolor": "#E5ECF6",
           "radialaxis": {
            "gridcolor": "white",
            "linecolor": "white",
            "ticks": ""
           }
          },
          "scene": {
           "xaxis": {
            "backgroundcolor": "#E5ECF6",
            "gridcolor": "white",
            "gridwidth": 2,
            "linecolor": "white",
            "showbackground": true,
            "ticks": "",
            "zerolinecolor": "white"
           },
           "yaxis": {
            "backgroundcolor": "#E5ECF6",
            "gridcolor": "white",
            "gridwidth": 2,
            "linecolor": "white",
            "showbackground": true,
            "ticks": "",
            "zerolinecolor": "white"
           },
           "zaxis": {
            "backgroundcolor": "#E5ECF6",
            "gridcolor": "white",
            "gridwidth": 2,
            "linecolor": "white",
            "showbackground": true,
            "ticks": "",
            "zerolinecolor": "white"
           }
          },
          "shapedefaults": {
           "line": {
            "color": "#2a3f5f"
           }
          },
          "ternary": {
           "aaxis": {
            "gridcolor": "white",
            "linecolor": "white",
            "ticks": ""
           },
           "baxis": {
            "gridcolor": "white",
            "linecolor": "white",
            "ticks": ""
           },
           "bgcolor": "#E5ECF6",
           "caxis": {
            "gridcolor": "white",
            "linecolor": "white",
            "ticks": ""
           }
          },
          "title": {
           "x": 0.05
          },
          "xaxis": {
           "automargin": true,
           "gridcolor": "white",
           "linecolor": "white",
           "ticks": "",
           "title": {
            "standoff": 15
           },
           "zerolinecolor": "white",
           "zerolinewidth": 2
          },
          "yaxis": {
           "automargin": true,
           "gridcolor": "white",
           "linecolor": "white",
           "ticks": "",
           "title": {
            "standoff": 15
           },
           "zerolinecolor": "white",
           "zerolinewidth": 2
          }
         }
        },
        "title": {
         "text": "Biểu đồ nhiệt giá đóng cửa trung bình theo năm và tháng (2000-2025)"
        },
        "xaxis": {
         "anchor": "y",
         "constrain": "domain",
         "domain": [
          0,
          1
         ],
         "scaleanchor": "y",
         "title": {
          "text": "Tháng"
         }
        },
        "yaxis": {
         "anchor": "x",
         "autorange": "reversed",
         "constrain": "domain",
         "domain": [
          0,
          1
         ],
         "title": {
          "text": "Năm"
         }
        }
       }
      }
     },
     "metadata": {},
     "output_type": "display_data"
    }
   ],
   "source": [
    "import plotly.express as px\n",
    "# Tạo cột năm và tháng\n",
    "data['Năm'] = data['Ngày'].dt.year\n",
    "data['Tháng'] = data['Ngày'].dt.month\n",
    "\n",
    "# Tính giá đóng cửa trung bình theo năm và tháng\n",
    "heatmap_data = data.pivot_table(values='Giá đóng cửa', index='Năm', columns='Tháng', aggfunc='mean')\n",
    "\n",
    "# Vẽ biểu đồ nhiệt\n",
    "fig = px.imshow(heatmap_data, \n",
    "                labels=dict(x='Tháng', y='Năm', color='Giá đóng cửa (VND)'),\n",
    "                title='Biểu đồ nhiệt giá đóng cửa trung bình theo năm và tháng (2000-2025)',\n",
    "                color_continuous_scale='Viridis')\n",
    "\n",
    "fig.update_layout(\n",
    "    xaxis_title='Tháng',\n",
    "    yaxis_title='Năm'\n",
    ")\n",
    "fig.show()"
   ]
  },
  {
   "cell_type": "code",
   "execution_count": null,
   "id": "434d9ea6",
   "metadata": {},
   "outputs": [],
   "source": []
  }
 ],
 "metadata": {
  "kernelspec": {
   "display_name": "base",
   "language": "python",
   "name": "python3"
  },
  "language_info": {
   "codemirror_mode": {
    "name": "ipython",
    "version": 3
   },
   "file_extension": ".py",
   "mimetype": "text/x-python",
   "name": "python",
   "nbconvert_exporter": "python",
   "pygments_lexer": "ipython3",
   "version": "3.11.5"
  }
 },
 "nbformat": 4,
 "nbformat_minor": 5
}
